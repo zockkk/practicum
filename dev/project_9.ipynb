{
 "cells": [
  {
   "cell_type": "markdown",
   "metadata": {},
   "source": [
    "# Преобразование данныз для \"Хоть потоп\""
   ]
  },
  {
   "cell_type": "markdown",
   "metadata": {},
   "source": [
    "## Общая информация о проекте и план"
   ]
  },
  {
   "cell_type": "markdown",
   "metadata": {},
   "source": [
    "### Описание проекта"
   ]
  },
  {
   "cell_type": "markdown",
   "metadata": {},
   "source": [
    "* Целью работы является защита даных клиентов.\n",
    "* Необходимо разработать алгоритм преобразования данных, чтобы по ним было сложно восстановить персональную информацию.\n",
    "* Необходимо, чтобы при преобразовании данных качество модели машинного обучения не ухудшилось."
   ]
  },
  {
   "cell_type": "markdown",
   "metadata": {},
   "source": [
    "### План"
   ]
  },
  {
   "cell_type": "markdown",
   "metadata": {},
   "source": [
    "* Загрузка и изучение данных\n",
    "* Изменится ли качество модели при умножении признаков на обратимую матрице?\n",
    "* Алгоритм преобразования данных для решения задачи.\n",
    "* Реализация алгоритма и проверка качества линейной регресии до и после преобразования. "
   ]
  },
  {
   "cell_type": "markdown",
   "metadata": {},
   "source": [
    "## Загрузка библиотек и инициализация констант"
   ]
  },
  {
   "cell_type": "code",
   "execution_count": 1,
   "metadata": {},
   "outputs": [],
   "source": [
    "import pandas as pd\n",
    "import numpy as np\n",
    "from sklearn.linear_model import LinearRegression\n",
    "from sklearn.model_selection import cross_val_score"
   ]
  },
  {
   "cell_type": "markdown",
   "metadata": {},
   "source": [
    "## Загузка и предобработка данных"
   ]
  },
  {
   "cell_type": "code",
   "execution_count": 2,
   "metadata": {},
   "outputs": [],
   "source": [
    "try:\n",
    "    data = pd.read_csv('../../datasets/insurance.csv')\n",
    "except:\n",
    "    data = pd.read_csv('https://code.s3.yandex.net/datasets/insurance.csv')"
   ]
  },
  {
   "cell_type": "code",
   "execution_count": 3,
   "metadata": {},
   "outputs": [
    {
     "data": {
      "text/html": [
       "<div>\n",
       "<style scoped>\n",
       "    .dataframe tbody tr th:only-of-type {\n",
       "        vertical-align: middle;\n",
       "    }\n",
       "\n",
       "    .dataframe tbody tr th {\n",
       "        vertical-align: top;\n",
       "    }\n",
       "\n",
       "    .dataframe thead th {\n",
       "        text-align: right;\n",
       "    }\n",
       "</style>\n",
       "<table border=\"1\" class=\"dataframe\">\n",
       "  <thead>\n",
       "    <tr style=\"text-align: right;\">\n",
       "      <th></th>\n",
       "      <th>Пол</th>\n",
       "      <th>Возраст</th>\n",
       "      <th>Зарплата</th>\n",
       "      <th>Члены семьи</th>\n",
       "      <th>Страховые выплаты</th>\n",
       "    </tr>\n",
       "  </thead>\n",
       "  <tbody>\n",
       "    <tr>\n",
       "      <th>0</th>\n",
       "      <td>1</td>\n",
       "      <td>41.0</td>\n",
       "      <td>49600.0</td>\n",
       "      <td>1</td>\n",
       "      <td>0</td>\n",
       "    </tr>\n",
       "    <tr>\n",
       "      <th>1</th>\n",
       "      <td>0</td>\n",
       "      <td>46.0</td>\n",
       "      <td>38000.0</td>\n",
       "      <td>1</td>\n",
       "      <td>1</td>\n",
       "    </tr>\n",
       "    <tr>\n",
       "      <th>2</th>\n",
       "      <td>0</td>\n",
       "      <td>29.0</td>\n",
       "      <td>21000.0</td>\n",
       "      <td>0</td>\n",
       "      <td>0</td>\n",
       "    </tr>\n",
       "    <tr>\n",
       "      <th>3</th>\n",
       "      <td>0</td>\n",
       "      <td>21.0</td>\n",
       "      <td>41700.0</td>\n",
       "      <td>2</td>\n",
       "      <td>0</td>\n",
       "    </tr>\n",
       "    <tr>\n",
       "      <th>4</th>\n",
       "      <td>1</td>\n",
       "      <td>28.0</td>\n",
       "      <td>26100.0</td>\n",
       "      <td>0</td>\n",
       "      <td>0</td>\n",
       "    </tr>\n",
       "    <tr>\n",
       "      <th>5</th>\n",
       "      <td>1</td>\n",
       "      <td>43.0</td>\n",
       "      <td>41000.0</td>\n",
       "      <td>2</td>\n",
       "      <td>1</td>\n",
       "    </tr>\n",
       "    <tr>\n",
       "      <th>6</th>\n",
       "      <td>1</td>\n",
       "      <td>39.0</td>\n",
       "      <td>39700.0</td>\n",
       "      <td>2</td>\n",
       "      <td>0</td>\n",
       "    </tr>\n",
       "    <tr>\n",
       "      <th>7</th>\n",
       "      <td>1</td>\n",
       "      <td>25.0</td>\n",
       "      <td>38600.0</td>\n",
       "      <td>4</td>\n",
       "      <td>0</td>\n",
       "    </tr>\n",
       "    <tr>\n",
       "      <th>8</th>\n",
       "      <td>1</td>\n",
       "      <td>36.0</td>\n",
       "      <td>49700.0</td>\n",
       "      <td>1</td>\n",
       "      <td>0</td>\n",
       "    </tr>\n",
       "    <tr>\n",
       "      <th>9</th>\n",
       "      <td>1</td>\n",
       "      <td>32.0</td>\n",
       "      <td>51700.0</td>\n",
       "      <td>1</td>\n",
       "      <td>0</td>\n",
       "    </tr>\n",
       "  </tbody>\n",
       "</table>\n",
       "</div>"
      ],
      "text/plain": [
       "   Пол  Возраст  Зарплата  Члены семьи  Страховые выплаты\n",
       "0    1     41.0   49600.0            1                  0\n",
       "1    0     46.0   38000.0            1                  1\n",
       "2    0     29.0   21000.0            0                  0\n",
       "3    0     21.0   41700.0            2                  0\n",
       "4    1     28.0   26100.0            0                  0\n",
       "5    1     43.0   41000.0            2                  1\n",
       "6    1     39.0   39700.0            2                  0\n",
       "7    1     25.0   38600.0            4                  0\n",
       "8    1     36.0   49700.0            1                  0\n",
       "9    1     32.0   51700.0            1                  0"
      ]
     },
     "execution_count": 3,
     "metadata": {},
     "output_type": "execute_result"
    }
   ],
   "source": [
    "data.head(10)"
   ]
  },
  {
   "cell_type": "code",
   "execution_count": 4,
   "metadata": {},
   "outputs": [
    {
     "name": "stdout",
     "output_type": "stream",
     "text": [
      "<class 'pandas.core.frame.DataFrame'>\n",
      "RangeIndex: 5000 entries, 0 to 4999\n",
      "Data columns (total 5 columns):\n",
      " #   Column             Non-Null Count  Dtype  \n",
      "---  ------             --------------  -----  \n",
      " 0   Пол                5000 non-null   int64  \n",
      " 1   Возраст            5000 non-null   float64\n",
      " 2   Зарплата           5000 non-null   float64\n",
      " 3   Члены семьи        5000 non-null   int64  \n",
      " 4   Страховые выплаты  5000 non-null   int64  \n",
      "dtypes: float64(2), int64(3)\n",
      "memory usage: 195.4 KB\n"
     ]
    }
   ],
   "source": [
    "data.info()"
   ]
  },
  {
   "cell_type": "markdown",
   "metadata": {},
   "source": [
    "###  Предобработка данных"
   ]
  },
  {
   "cell_type": "markdown",
   "metadata": {},
   "source": [
    "#### Обработка дубликатов"
   ]
  },
  {
   "cell_type": "code",
   "execution_count": 5,
   "metadata": {},
   "outputs": [
    {
     "data": {
      "text/plain": [
       "153"
      ]
     },
     "execution_count": 5,
     "metadata": {},
     "output_type": "execute_result"
    }
   ],
   "source": [
    "data.duplicated().sum()"
   ]
  },
  {
   "cell_type": "code",
   "execution_count": 6,
   "metadata": {},
   "outputs": [
    {
     "data": {
      "text/plain": [
       "(4847, 5)"
      ]
     },
     "execution_count": 6,
     "metadata": {},
     "output_type": "execute_result"
    }
   ],
   "source": [
    "data = data.drop_duplicates().reset_index(drop=True)\n",
    "data.shape"
   ]
  },
  {
   "cell_type": "markdown",
   "metadata": {},
   "source": [
    "#### Обработка пропусков"
   ]
  },
  {
   "cell_type": "code",
   "execution_count": 7,
   "metadata": {},
   "outputs": [
    {
     "data": {
      "text/plain": [
       "Пол                  0.0\n",
       "Возраст              0.0\n",
       "Зарплата             0.0\n",
       "Члены семьи          0.0\n",
       "Страховые выплаты    0.0\n",
       "dtype: float64"
      ]
     },
     "execution_count": 7,
     "metadata": {},
     "output_type": "execute_result"
    }
   ],
   "source": [
    "data.isnull().sum()*100/len(data)"
   ]
  },
  {
   "cell_type": "markdown",
   "metadata": {},
   "source": [
    "#### Изменение типов и переименование столбцов"
   ]
  },
  {
   "cell_type": "code",
   "execution_count": 8,
   "metadata": {},
   "outputs": [],
   "source": [
    "data.columns = ['пол', 'возраст', 'зарплата', 'члены_семьи', 'страховые_выплаты']"
   ]
  },
  {
   "cell_type": "code",
   "execution_count": 9,
   "metadata": {},
   "outputs": [
    {
     "name": "stdout",
     "output_type": "stream",
     "text": [
      "<class 'pandas.core.frame.DataFrame'>\n",
      "RangeIndex: 4847 entries, 0 to 4846\n",
      "Data columns (total 5 columns):\n",
      " #   Column             Non-Null Count  Dtype\n",
      "---  ------             --------------  -----\n",
      " 0   пол                4847 non-null   int64\n",
      " 1   возраст            4847 non-null   int32\n",
      " 2   зарплата           4847 non-null   int32\n",
      " 3   члены_семьи        4847 non-null   int64\n",
      " 4   страховые_выплаты  4847 non-null   int64\n",
      "dtypes: int32(2), int64(3)\n",
      "memory usage: 151.6 KB\n"
     ]
    }
   ],
   "source": [
    "data['возраст'] = data['возраст'].astype('int')\n",
    "data['зарплата'] = data['зарплата'].astype('int')\n",
    "data.info()"
   ]
  },
  {
   "cell_type": "markdown",
   "metadata": {},
   "source": [
    "### Выводы по разделу"
   ]
  },
  {
   "cell_type": "markdown",
   "metadata": {},
   "source": [
    "* Удалены явные дубликаты в данных\n",
    "* Названия колонок приведены к нижнему регистру\n",
    "* Изменены типы колонок \"возраст\" и \"зарплата\" на целочисленный\n",
    "* Пропусков в данных нет "
   ]
  },
  {
   "cell_type": "markdown",
   "metadata": {},
   "source": [
    "## Проверка изменений качества модели при умножении матрицы признаков на обратимую "
   ]
  },
  {
   "cell_type": "markdown",
   "metadata": {},
   "source": [
    "* Формула для находжения весов линейной регресси с минимальным mse:\n",
    "$$w = (X^T X)^{-1} X^T y$$\n",
    "* Веса при умножении на обратимую матрицу А:\n",
    "$$w_1 = ((XA)^T XA)^{-1} (XA)^T y $$\n",
    "$$\\Leftrightarrow$$\n",
    "$$w_1 = (A^T (X^T X) A)^{-1} (XA)^T y$$\n",
    "$$\\Leftrightarrow$$\n",
    "$$w_1 = (A^T (X^T X) A)^{-1} A^T X^T y$$\n",
    "$$\\Leftrightarrow$$\n",
    "$$w_1 = A^{-1} (X^T X)^{-1} (A^T)^{-1} A^T X^T y$$\n",
    "$$\\Leftrightarrow$$\n",
    "$$w_1 = A^{-1} (X^T X)^{-1} E X^T y$$\n",
    "$$\\Leftrightarrow$$\n",
    "$$w_1 = A^{-1}w$$\n",
    "* Формула предсказаний для линейной регрессии:\n",
    "$$a=Xw$$\n",
    "* Формула для признаков умноженных на обратимую матрицу:\n",
    "$$a_1=XAw_1$$\n",
    "$$\\Leftrightarrow$$\n",
    "$$a_1=XAA^{-1}w$$\n",
    "$$\\Leftrightarrow$$\n",
    "$$a_1=Xw=a$$\n",
    "* Значит точность предсказаний не изменится."
   ]
  },
  {
   "cell_type": "markdown",
   "metadata": {},
   "source": [
    "## Алгоритм преобразования данных"
   ]
  },
  {
   "cell_type": "markdown",
   "metadata": {},
   "source": [
    "* Создание функции для обучения модели и вывода результатов\n",
    "* Разбить датасет на признаки и целевой признак\n",
    "* Получить модель обученную на исходных данных\n",
    "* Умножить матрицу признаков на обратимую случайную матрицу\n",
    "* Получить модель обученную на измененных данных\n",
    "* Сравнить качетво обученных моделей"
   ]
  },
  {
   "cell_type": "markdown",
   "metadata": {},
   "source": [
    "Так как при умножении на обратимую матрицу качество модели не изменится, то и при следовании этому алгоритму качество модели не должно измениться."
   ]
  },
  {
   "cell_type": "markdown",
   "metadata": {},
   "source": [
    "## Проверка алгоритма"
   ]
  },
  {
   "cell_type": "code",
   "execution_count": 10,
   "metadata": {},
   "outputs": [],
   "source": [
    "def get_results(features, target):\n",
    "    model = LinearRegression()\n",
    "    result = cross_val_score(model, features, target, cv=5)\n",
    "    return result"
   ]
  },
  {
   "cell_type": "code",
   "execution_count": 11,
   "metadata": {},
   "outputs": [],
   "source": [
    "features = data.drop('страховые_выплаты', axis=1)\n",
    "target = data['страховые_выплаты']"
   ]
  },
  {
   "cell_type": "code",
   "execution_count": 12,
   "metadata": {},
   "outputs": [
    {
     "data": {
      "text/plain": [
       "array([[0.85563938, 0.04773276, 0.11382957, 0.1542869 ],\n",
       "       [0.17470447, 0.21397512, 0.37507957, 0.748375  ],\n",
       "       [0.88818107, 0.28095546, 0.4987011 , 0.58864296],\n",
       "       [0.64165575, 0.26403354, 0.22931828, 0.42534807]])"
      ]
     },
     "execution_count": 12,
     "metadata": {},
     "output_type": "execute_result"
    }
   ],
   "source": [
    "size = features.shape[1]\n",
    "matrix = np.random.rand(size, size)\n",
    "matrix"
   ]
  },
  {
   "cell_type": "code",
   "execution_count": 13,
   "metadata": {},
   "outputs": [
    {
     "data": {
      "text/plain": [
       "array([[ 1.34226405, -0.17182428, -0.25375442,  0.16660704],\n",
       "       [-4.85530992, -3.16925758,  0.32438634,  6.88837286],\n",
       "       [-2.26224932, -1.47557534,  5.66564806, -4.42396434],\n",
       "       [ 2.20870484,  3.02203962, -2.87308824,  0.20884081]])"
      ]
     },
     "execution_count": 13,
     "metadata": {},
     "output_type": "execute_result"
    }
   ],
   "source": [
    "np.linalg.inv(matrix)"
   ]
  },
  {
   "cell_type": "code",
   "execution_count": 14,
   "metadata": {},
   "outputs": [
    {
     "data": {
      "text/plain": [
       "array([0.3986062 , 0.4547181 , 0.42279282, 0.41667654, 0.44617763])"
      ]
     },
     "execution_count": 14,
     "metadata": {},
     "output_type": "execute_result"
    }
   ],
   "source": [
    "result = get_results(features.values, target.values)\n",
    "result"
   ]
  },
  {
   "cell_type": "code",
   "execution_count": 15,
   "metadata": {},
   "outputs": [
    {
     "data": {
      "text/plain": [
       "array([[44062.44113962, 13944.47572576, 24751.2959871 , 29227.95389669],\n",
       "       [33759.55863656, 10686.41449435, 18968.12479143, 22403.28313228],\n",
       "       [18656.86885278,  5906.27000772, 10483.60041468, 12383.20506497],\n",
       "       [37042.10263118, 11720.8643641 , 20804.17119171, 24562.97806257],\n",
       "       [23187.27323327,  7338.97662817, 13026.71477642, 15384.69008013]])"
      ]
     },
     "execution_count": 15,
     "metadata": {},
     "output_type": "execute_result"
    }
   ],
   "source": [
    "features_new = np.dot(features, matrix)\n",
    "features_new[:5]"
   ]
  },
  {
   "cell_type": "code",
   "execution_count": 16,
   "metadata": {},
   "outputs": [
    {
     "data": {
      "text/plain": [
       "array([0.3986062 , 0.4547181 , 0.42279282, 0.41667654, 0.44617763])"
      ]
     },
     "execution_count": 16,
     "metadata": {},
     "output_type": "execute_result"
    }
   ],
   "source": [
    "result_new = get_results(features_new, target)\n",
    "result_new"
   ]
  },
  {
   "cell_type": "markdown",
   "metadata": {},
   "source": [
    "### Вывод по разделу"
   ]
  },
  {
   "cell_type": "markdown",
   "metadata": {},
   "source": [
    "* Алгоритм из предыдущего блока действительно работает и результаты при умножении признаков на обратимую матрицу не изменились. "
   ]
  },
  {
   "cell_type": "markdown",
   "metadata": {},
   "source": [
    "## Общий вывод"
   ]
  },
  {
   "cell_type": "markdown",
   "metadata": {},
   "source": [
    "* Предобработка данных:\n",
    "\n",
    "    * Удалены явные дубликаты в данных\n",
    "    * Названия колонок приведены к нижнему регистру\n",
    "    * Изменены типы колонок \"возраст\" и \"зарплата\" на целочисленный\n",
    "    * Пропусков в данных нет \n",
    "\n",
    "* Выведено правило исходя из которой у модели линейной регрессии не измениться качество если умножить матрицу признаков на обратимую.\n",
    "* Создан алгоритм для преобразования исходных данных и проверки гипотезы о неизменяемости качества модели.\n",
    "* Проверена гипотеза: качество модели действительно не изменилось."
   ]
  }
 ],
 "metadata": {
  "kernelspec": {
   "display_name": "practicum",
   "language": "python",
   "name": "python3"
  },
  "language_info": {
   "codemirror_mode": {
    "name": "ipython",
    "version": 3
   },
   "file_extension": ".py",
   "mimetype": "text/x-python",
   "name": "python",
   "nbconvert_exporter": "python",
   "pygments_lexer": "ipython3",
   "version": "3.9.18"
  }
 },
 "nbformat": 4,
 "nbformat_minor": 2
}
