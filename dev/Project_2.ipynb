{
 "cells": [
  {
   "cell_type": "markdown",
   "id": "6f682a47-32e9-4628-bad3-a0a408945567",
   "metadata": {},
   "source": [
    "# Проект 2: Исследоватльский анализ данных"
   ]
  },
  {
   "cell_type": "code",
   "execution_count": 2,
   "id": "1da87f53-3ed7-4b93-af77-84ee273c5c0e",
   "metadata": {},
   "outputs": [],
   "source": [
    "import pandas as pd"
   ]
  },
  {
   "cell_type": "markdown",
   "id": "caf76b9d",
   "metadata": {},
   "source": [
    "## Общие сведения о данных"
   ]
  },
  {
   "cell_type": "code",
   "execution_count": 3,
   "id": "e9f14ae4-960e-4b1a-b7d0-0ca937aff3ed",
   "metadata": {},
   "outputs": [
    {
     "data": {
      "text/html": [
       "<div>\n",
       "<style scoped>\n",
       "    .dataframe tbody tr th:only-of-type {\n",
       "        vertical-align: middle;\n",
       "    }\n",
       "\n",
       "    .dataframe tbody tr th {\n",
       "        vertical-align: top;\n",
       "    }\n",
       "\n",
       "    .dataframe thead th {\n",
       "        text-align: right;\n",
       "    }\n",
       "</style>\n",
       "<table border=\"1\" class=\"dataframe\">\n",
       "  <thead>\n",
       "    <tr style=\"text-align: right;\">\n",
       "      <th></th>\n",
       "      <th>total_images</th>\n",
       "      <th>last_price</th>\n",
       "      <th>total_area</th>\n",
       "      <th>first_day_exposition</th>\n",
       "      <th>rooms</th>\n",
       "      <th>ceiling_height</th>\n",
       "      <th>floors_total</th>\n",
       "      <th>living_area</th>\n",
       "      <th>floor</th>\n",
       "      <th>is_apartment</th>\n",
       "      <th>...</th>\n",
       "      <th>kitchen_area</th>\n",
       "      <th>balcony</th>\n",
       "      <th>locality_name</th>\n",
       "      <th>airports_nearest</th>\n",
       "      <th>cityCenters_nearest</th>\n",
       "      <th>parks_around3000</th>\n",
       "      <th>parks_nearest</th>\n",
       "      <th>ponds_around3000</th>\n",
       "      <th>ponds_nearest</th>\n",
       "      <th>days_exposition</th>\n",
       "    </tr>\n",
       "  </thead>\n",
       "  <tbody>\n",
       "    <tr>\n",
       "      <th>0</th>\n",
       "      <td>20</td>\n",
       "      <td>13000000.0</td>\n",
       "      <td>108.00</td>\n",
       "      <td>2019-03-07T00:00:00</td>\n",
       "      <td>3</td>\n",
       "      <td>2.70</td>\n",
       "      <td>16.0</td>\n",
       "      <td>51.00</td>\n",
       "      <td>8</td>\n",
       "      <td>NaN</td>\n",
       "      <td>...</td>\n",
       "      <td>25.00</td>\n",
       "      <td>NaN</td>\n",
       "      <td>Санкт-Петербург</td>\n",
       "      <td>18863.0</td>\n",
       "      <td>16028.0</td>\n",
       "      <td>1.0</td>\n",
       "      <td>482.0</td>\n",
       "      <td>2.0</td>\n",
       "      <td>755.0</td>\n",
       "      <td>NaN</td>\n",
       "    </tr>\n",
       "    <tr>\n",
       "      <th>1</th>\n",
       "      <td>7</td>\n",
       "      <td>3350000.0</td>\n",
       "      <td>40.40</td>\n",
       "      <td>2018-12-04T00:00:00</td>\n",
       "      <td>1</td>\n",
       "      <td>NaN</td>\n",
       "      <td>11.0</td>\n",
       "      <td>18.60</td>\n",
       "      <td>1</td>\n",
       "      <td>NaN</td>\n",
       "      <td>...</td>\n",
       "      <td>11.00</td>\n",
       "      <td>2.0</td>\n",
       "      <td>посёлок Шушары</td>\n",
       "      <td>12817.0</td>\n",
       "      <td>18603.0</td>\n",
       "      <td>0.0</td>\n",
       "      <td>NaN</td>\n",
       "      <td>0.0</td>\n",
       "      <td>NaN</td>\n",
       "      <td>81.0</td>\n",
       "    </tr>\n",
       "    <tr>\n",
       "      <th>2</th>\n",
       "      <td>10</td>\n",
       "      <td>5196000.0</td>\n",
       "      <td>56.00</td>\n",
       "      <td>2015-08-20T00:00:00</td>\n",
       "      <td>2</td>\n",
       "      <td>NaN</td>\n",
       "      <td>5.0</td>\n",
       "      <td>34.30</td>\n",
       "      <td>4</td>\n",
       "      <td>NaN</td>\n",
       "      <td>...</td>\n",
       "      <td>8.30</td>\n",
       "      <td>0.0</td>\n",
       "      <td>Санкт-Петербург</td>\n",
       "      <td>21741.0</td>\n",
       "      <td>13933.0</td>\n",
       "      <td>1.0</td>\n",
       "      <td>90.0</td>\n",
       "      <td>2.0</td>\n",
       "      <td>574.0</td>\n",
       "      <td>558.0</td>\n",
       "    </tr>\n",
       "    <tr>\n",
       "      <th>3</th>\n",
       "      <td>0</td>\n",
       "      <td>64900000.0</td>\n",
       "      <td>159.00</td>\n",
       "      <td>2015-07-24T00:00:00</td>\n",
       "      <td>3</td>\n",
       "      <td>NaN</td>\n",
       "      <td>14.0</td>\n",
       "      <td>NaN</td>\n",
       "      <td>9</td>\n",
       "      <td>NaN</td>\n",
       "      <td>...</td>\n",
       "      <td>NaN</td>\n",
       "      <td>0.0</td>\n",
       "      <td>Санкт-Петербург</td>\n",
       "      <td>28098.0</td>\n",
       "      <td>6800.0</td>\n",
       "      <td>2.0</td>\n",
       "      <td>84.0</td>\n",
       "      <td>3.0</td>\n",
       "      <td>234.0</td>\n",
       "      <td>424.0</td>\n",
       "    </tr>\n",
       "    <tr>\n",
       "      <th>4</th>\n",
       "      <td>2</td>\n",
       "      <td>10000000.0</td>\n",
       "      <td>100.00</td>\n",
       "      <td>2018-06-19T00:00:00</td>\n",
       "      <td>2</td>\n",
       "      <td>3.03</td>\n",
       "      <td>14.0</td>\n",
       "      <td>32.00</td>\n",
       "      <td>13</td>\n",
       "      <td>NaN</td>\n",
       "      <td>...</td>\n",
       "      <td>41.00</td>\n",
       "      <td>NaN</td>\n",
       "      <td>Санкт-Петербург</td>\n",
       "      <td>31856.0</td>\n",
       "      <td>8098.0</td>\n",
       "      <td>2.0</td>\n",
       "      <td>112.0</td>\n",
       "      <td>1.0</td>\n",
       "      <td>48.0</td>\n",
       "      <td>121.0</td>\n",
       "    </tr>\n",
       "    <tr>\n",
       "      <th>5</th>\n",
       "      <td>10</td>\n",
       "      <td>2890000.0</td>\n",
       "      <td>30.40</td>\n",
       "      <td>2018-09-10T00:00:00</td>\n",
       "      <td>1</td>\n",
       "      <td>NaN</td>\n",
       "      <td>12.0</td>\n",
       "      <td>14.40</td>\n",
       "      <td>5</td>\n",
       "      <td>NaN</td>\n",
       "      <td>...</td>\n",
       "      <td>9.10</td>\n",
       "      <td>NaN</td>\n",
       "      <td>городской посёлок Янино-1</td>\n",
       "      <td>NaN</td>\n",
       "      <td>NaN</td>\n",
       "      <td>NaN</td>\n",
       "      <td>NaN</td>\n",
       "      <td>NaN</td>\n",
       "      <td>NaN</td>\n",
       "      <td>55.0</td>\n",
       "    </tr>\n",
       "    <tr>\n",
       "      <th>6</th>\n",
       "      <td>6</td>\n",
       "      <td>3700000.0</td>\n",
       "      <td>37.30</td>\n",
       "      <td>2017-11-02T00:00:00</td>\n",
       "      <td>1</td>\n",
       "      <td>NaN</td>\n",
       "      <td>26.0</td>\n",
       "      <td>10.60</td>\n",
       "      <td>6</td>\n",
       "      <td>NaN</td>\n",
       "      <td>...</td>\n",
       "      <td>14.40</td>\n",
       "      <td>1.0</td>\n",
       "      <td>посёлок Парголово</td>\n",
       "      <td>52996.0</td>\n",
       "      <td>19143.0</td>\n",
       "      <td>0.0</td>\n",
       "      <td>NaN</td>\n",
       "      <td>0.0</td>\n",
       "      <td>NaN</td>\n",
       "      <td>155.0</td>\n",
       "    </tr>\n",
       "    <tr>\n",
       "      <th>7</th>\n",
       "      <td>5</td>\n",
       "      <td>7915000.0</td>\n",
       "      <td>71.60</td>\n",
       "      <td>2019-04-18T00:00:00</td>\n",
       "      <td>2</td>\n",
       "      <td>NaN</td>\n",
       "      <td>24.0</td>\n",
       "      <td>NaN</td>\n",
       "      <td>22</td>\n",
       "      <td>NaN</td>\n",
       "      <td>...</td>\n",
       "      <td>18.90</td>\n",
       "      <td>2.0</td>\n",
       "      <td>Санкт-Петербург</td>\n",
       "      <td>23982.0</td>\n",
       "      <td>11634.0</td>\n",
       "      <td>0.0</td>\n",
       "      <td>NaN</td>\n",
       "      <td>0.0</td>\n",
       "      <td>NaN</td>\n",
       "      <td>NaN</td>\n",
       "    </tr>\n",
       "    <tr>\n",
       "      <th>8</th>\n",
       "      <td>20</td>\n",
       "      <td>2900000.0</td>\n",
       "      <td>33.16</td>\n",
       "      <td>2018-05-23T00:00:00</td>\n",
       "      <td>1</td>\n",
       "      <td>NaN</td>\n",
       "      <td>27.0</td>\n",
       "      <td>15.43</td>\n",
       "      <td>26</td>\n",
       "      <td>NaN</td>\n",
       "      <td>...</td>\n",
       "      <td>8.81</td>\n",
       "      <td>NaN</td>\n",
       "      <td>посёлок Мурино</td>\n",
       "      <td>NaN</td>\n",
       "      <td>NaN</td>\n",
       "      <td>NaN</td>\n",
       "      <td>NaN</td>\n",
       "      <td>NaN</td>\n",
       "      <td>NaN</td>\n",
       "      <td>189.0</td>\n",
       "    </tr>\n",
       "    <tr>\n",
       "      <th>9</th>\n",
       "      <td>18</td>\n",
       "      <td>5400000.0</td>\n",
       "      <td>61.00</td>\n",
       "      <td>2017-02-26T00:00:00</td>\n",
       "      <td>3</td>\n",
       "      <td>2.50</td>\n",
       "      <td>9.0</td>\n",
       "      <td>43.60</td>\n",
       "      <td>7</td>\n",
       "      <td>NaN</td>\n",
       "      <td>...</td>\n",
       "      <td>6.50</td>\n",
       "      <td>2.0</td>\n",
       "      <td>Санкт-Петербург</td>\n",
       "      <td>50898.0</td>\n",
       "      <td>15008.0</td>\n",
       "      <td>0.0</td>\n",
       "      <td>NaN</td>\n",
       "      <td>0.0</td>\n",
       "      <td>NaN</td>\n",
       "      <td>289.0</td>\n",
       "    </tr>\n",
       "  </tbody>\n",
       "</table>\n",
       "<p>10 rows × 22 columns</p>\n",
       "</div>"
      ],
      "text/plain": [
       "   total_images  last_price  total_area first_day_exposition  rooms  \\\n",
       "0            20  13000000.0      108.00  2019-03-07T00:00:00      3   \n",
       "1             7   3350000.0       40.40  2018-12-04T00:00:00      1   \n",
       "2            10   5196000.0       56.00  2015-08-20T00:00:00      2   \n",
       "3             0  64900000.0      159.00  2015-07-24T00:00:00      3   \n",
       "4             2  10000000.0      100.00  2018-06-19T00:00:00      2   \n",
       "5            10   2890000.0       30.40  2018-09-10T00:00:00      1   \n",
       "6             6   3700000.0       37.30  2017-11-02T00:00:00      1   \n",
       "7             5   7915000.0       71.60  2019-04-18T00:00:00      2   \n",
       "8            20   2900000.0       33.16  2018-05-23T00:00:00      1   \n",
       "9            18   5400000.0       61.00  2017-02-26T00:00:00      3   \n",
       "\n",
       "   ceiling_height  floors_total  living_area  floor is_apartment  ...  \\\n",
       "0            2.70          16.0        51.00      8          NaN  ...   \n",
       "1             NaN          11.0        18.60      1          NaN  ...   \n",
       "2             NaN           5.0        34.30      4          NaN  ...   \n",
       "3             NaN          14.0          NaN      9          NaN  ...   \n",
       "4            3.03          14.0        32.00     13          NaN  ...   \n",
       "5             NaN          12.0        14.40      5          NaN  ...   \n",
       "6             NaN          26.0        10.60      6          NaN  ...   \n",
       "7             NaN          24.0          NaN     22          NaN  ...   \n",
       "8             NaN          27.0        15.43     26          NaN  ...   \n",
       "9            2.50           9.0        43.60      7          NaN  ...   \n",
       "\n",
       "   kitchen_area  balcony              locality_name  airports_nearest  \\\n",
       "0         25.00      NaN            Санкт-Петербург           18863.0   \n",
       "1         11.00      2.0             посёлок Шушары           12817.0   \n",
       "2          8.30      0.0            Санкт-Петербург           21741.0   \n",
       "3           NaN      0.0            Санкт-Петербург           28098.0   \n",
       "4         41.00      NaN            Санкт-Петербург           31856.0   \n",
       "5          9.10      NaN  городской посёлок Янино-1               NaN   \n",
       "6         14.40      1.0          посёлок Парголово           52996.0   \n",
       "7         18.90      2.0            Санкт-Петербург           23982.0   \n",
       "8          8.81      NaN             посёлок Мурино               NaN   \n",
       "9          6.50      2.0            Санкт-Петербург           50898.0   \n",
       "\n",
       "  cityCenters_nearest  parks_around3000  parks_nearest  ponds_around3000  \\\n",
       "0             16028.0               1.0          482.0               2.0   \n",
       "1             18603.0               0.0            NaN               0.0   \n",
       "2             13933.0               1.0           90.0               2.0   \n",
       "3              6800.0               2.0           84.0               3.0   \n",
       "4              8098.0               2.0          112.0               1.0   \n",
       "5                 NaN               NaN            NaN               NaN   \n",
       "6             19143.0               0.0            NaN               0.0   \n",
       "7             11634.0               0.0            NaN               0.0   \n",
       "8                 NaN               NaN            NaN               NaN   \n",
       "9             15008.0               0.0            NaN               0.0   \n",
       "\n",
       "   ponds_nearest  days_exposition  \n",
       "0          755.0              NaN  \n",
       "1            NaN             81.0  \n",
       "2          574.0            558.0  \n",
       "3          234.0            424.0  \n",
       "4           48.0            121.0  \n",
       "5            NaN             55.0  \n",
       "6            NaN            155.0  \n",
       "7            NaN              NaN  \n",
       "8            NaN            189.0  \n",
       "9            NaN            289.0  \n",
       "\n",
       "[10 rows x 22 columns]"
      ]
     },
     "execution_count": 3,
     "metadata": {},
     "output_type": "execute_result"
    }
   ],
   "source": [
    "try:\n",
    "    data = pd.read_csv('../datasets/real_estate_data.csv', sep='\\t')\n",
    "except:\n",
    "    data = pd.read_csv('/datasets/real_estate_data.csv', sep='\\t')\n",
    "data.head(10)"
   ]
  },
  {
   "cell_type": "markdown",
   "id": "3255dd5e",
   "metadata": {},
   "source": [
    "### Общая информация о данных"
   ]
  },
  {
   "cell_type": "code",
   "execution_count": 3,
   "id": "046fecb8-abe6-479b-8ed6-fa2dedcce2bc",
   "metadata": {},
   "outputs": [
    {
     "name": "stdout",
     "output_type": "stream",
     "text": [
      "<class 'pandas.core.frame.DataFrame'>\n",
      "RangeIndex: 23699 entries, 0 to 23698\n",
      "Data columns (total 22 columns):\n",
      " #   Column                Non-Null Count  Dtype  \n",
      "---  ------                --------------  -----  \n",
      " 0   total_images          23699 non-null  int64  \n",
      " 1   last_price            23699 non-null  float64\n",
      " 2   total_area            23699 non-null  float64\n",
      " 3   first_day_exposition  23699 non-null  object \n",
      " 4   rooms                 23699 non-null  int64  \n",
      " 5   ceiling_height        14504 non-null  float64\n",
      " 6   floors_total          23613 non-null  float64\n",
      " 7   living_area           21796 non-null  float64\n",
      " 8   floor                 23699 non-null  int64  \n",
      " 9   is_apartment          2775 non-null   object \n",
      " 10  studio                23699 non-null  bool   \n",
      " 11  open_plan             23699 non-null  bool   \n",
      " 12  kitchen_area          21421 non-null  float64\n",
      " 13  balcony               12180 non-null  float64\n",
      " 14  locality_name         23650 non-null  object \n",
      " 15  airports_nearest      18157 non-null  float64\n",
      " 16  cityCenters_nearest   18180 non-null  float64\n",
      " 17  parks_around3000      18181 non-null  float64\n",
      " 18  parks_nearest         8079 non-null   float64\n",
      " 19  ponds_around3000      18181 non-null  float64\n",
      " 20  ponds_nearest         9110 non-null   float64\n",
      " 21  days_exposition       20518 non-null  float64\n",
      "dtypes: bool(2), float64(14), int64(3), object(3)\n",
      "memory usage: 3.7+ MB\n"
     ]
    }
   ],
   "source": [
    "data.info()"
   ]
  },
  {
   "cell_type": "code",
   "execution_count": 4,
   "id": "46c9ec91-def1-433f-8983-0e5dc6a412cc",
   "metadata": {},
   "outputs": [
    {
     "data": {
      "text/plain": [
       "array([[<AxesSubplot:title={'center':'total_images'}>,\n",
       "        <AxesSubplot:title={'center':'last_price'}>,\n",
       "        <AxesSubplot:title={'center':'total_area'}>,\n",
       "        <AxesSubplot:title={'center':'rooms'}>],\n",
       "       [<AxesSubplot:title={'center':'ceiling_height'}>,\n",
       "        <AxesSubplot:title={'center':'floors_total'}>,\n",
       "        <AxesSubplot:title={'center':'living_area'}>,\n",
       "        <AxesSubplot:title={'center':'floor'}>],\n",
       "       [<AxesSubplot:title={'center':'kitchen_area'}>,\n",
       "        <AxesSubplot:title={'center':'balcony'}>,\n",
       "        <AxesSubplot:title={'center':'airports_nearest'}>,\n",
       "        <AxesSubplot:title={'center':'cityCenters_nearest'}>],\n",
       "       [<AxesSubplot:title={'center':'parks_around3000'}>,\n",
       "        <AxesSubplot:title={'center':'parks_nearest'}>,\n",
       "        <AxesSubplot:title={'center':'ponds_around3000'}>,\n",
       "        <AxesSubplot:title={'center':'ponds_nearest'}>],\n",
       "       [<AxesSubplot:title={'center':'days_exposition'}>, <AxesSubplot:>,\n",
       "        <AxesSubplot:>, <AxesSubplot:>]], dtype=object)"
      ]
     },
     "execution_count": 4,
     "metadata": {},
     "output_type": "execute_result"
    },
    {
     "data": {
      "image/png": "[encoded data removed]",
      "text/plain": [
       "<Figure size 1500x2000 with 20 Axes>"
      ]
     },
     "metadata": {},
     "output_type": "display_data"
    }
   ],
   "source": [
    "data.hist(figsize=(15, 20))"
   ]
  },
  {
   "cell_type": "markdown",
   "id": "4bf2e107",
   "metadata": {},
   "source": [
    "### Пропуски в колонках."
   ]
  },
  {
   "cell_type": "code",
   "execution_count": 5,
   "id": "b07da47b-8d49-4ea6-98f4-8b709d3dcf14",
   "metadata": {},
   "outputs": [
    {
     "data": {
      "text/plain": [
       "total_images                0\n",
       "last_price                  0\n",
       "total_area                  0\n",
       "first_day_exposition        0\n",
       "rooms                       0\n",
       "ceiling_height           9195\n",
       "floors_total               86\n",
       "living_area              1903\n",
       "floor                       0\n",
       "is_apartment            20924\n",
       "studio                      0\n",
       "open_plan                   0\n",
       "kitchen_area             2278\n",
       "balcony                 11519\n",
       "locality_name              49\n",
       "airports_nearest         5542\n",
       "cityCenters_nearest      5519\n",
       "parks_around3000         5518\n",
       "parks_nearest           15620\n",
       "ponds_around3000         5518\n",
       "ponds_nearest           14589\n",
       "days_exposition          3181\n",
       "dtype: int64"
      ]
     },
     "execution_count": 5,
     "metadata": {},
     "output_type": "execute_result"
    }
   ],
   "source": [
    "data.isna().sum()"
   ]
  },
  {
   "cell_type": "markdown",
   "id": "6573a637-aacc-43df-b1ed-de4965576f01",
   "metadata": {},
   "source": [
    "В таблице 14 колонок имеют пропуски, причем в некоторых колонках пропущено до 90% значений.\n",
    "\n",
    "* Пропущенные значения в колонке ceiling_height можно заченить медианным значением. \n",
    "* Пропуски в колонках living_area, kitchen_area заменим медианой по количеству комнат.\n",
    "* Пропуски в колонке с количеством балконов заменим на 0.\n",
    "* Пропуски в колонке is_apartment нужно оставить как есть, сейчас неясно как их устранить и эти данные не влияют на результаты исследования.\n",
    "* Пропуски в колонках locality_name, cityCenters_nearest заполним медианным значением, а parks_around3000, ponds_around3000 - нулями."
   ]
  },
  {
   "cell_type": "markdown",
   "id": "c364c27e",
   "metadata": {},
   "source": [
    "#### Возможные причины пропусков"
   ]
  },
  {
   "cell_type": "code",
   "execution_count": 6,
   "id": "a3404239",
   "metadata": {},
   "outputs": [
    {
     "data": {
      "text/plain": [
       "9195"
      ]
     },
     "metadata": {},
     "output_type": "display_data"
    },
    {
     "data": {
      "text/plain": [
       "2.50     3515\n",
       "2.60     1646\n",
       "2.70     1574\n",
       "3.00     1112\n",
       "2.80      993\n",
       "         ... \n",
       "4.25        1\n",
       "3.39        1\n",
       "3.93        1\n",
       "10.30       1\n",
       "4.65        1\n",
       "Name: ceiling_height, Length: 183, dtype: int64"
      ]
     },
     "execution_count": 6,
     "metadata": {},
     "output_type": "execute_result"
    }
   ],
   "source": [
    "display(data['ceiling_height'].isna().sum())\n",
    "data['ceiling_height'].value_counts()"
   ]
  },
  {
   "cell_type": "markdown",
   "id": "0ab1e2d7",
   "metadata": {},
   "source": [
    "Потеряно больше 9000 значений. Возможно некоторые люди не указывают высоту полотков или часть данных была утеряна при техническом сбое. Вместо пропусков целесообразно вставить медианное значение."
   ]
  },
  {
   "cell_type": "code",
   "execution_count": 7,
   "id": "6c331684",
   "metadata": {},
   "outputs": [
    {
     "data": {
      "text/plain": [
       "86"
      ]
     },
     "metadata": {},
     "output_type": "display_data"
    },
    {
     "data": {
      "text/plain": [
       "5.0     5788\n",
       "9.0     3761\n",
       "16.0    1376\n",
       "12.0    1362\n",
       "4.0     1200\n",
       "10.0    1174\n",
       "25.0    1075\n",
       "6.0      914\n",
       "17.0     833\n",
       "3.0      668\n",
       "7.0      592\n",
       "14.0     553\n",
       "18.0     505\n",
       "24.0     469\n",
       "8.0      390\n",
       "2.0      383\n",
       "15.0     365\n",
       "23.0     352\n",
       "19.0     339\n",
       "22.0     286\n",
       "20.0     271\n",
       "13.0     229\n",
       "11.0     203\n",
       "27.0     164\n",
       "21.0     158\n",
       "26.0     124\n",
       "1.0       25\n",
       "35.0      24\n",
       "28.0      21\n",
       "36.0       3\n",
       "37.0       1\n",
       "34.0       1\n",
       "33.0       1\n",
       "60.0       1\n",
       "29.0       1\n",
       "52.0       1\n",
       "Name: floors_total, dtype: int64"
      ]
     },
     "execution_count": 7,
     "metadata": {},
     "output_type": "execute_result"
    }
   ],
   "source": [
    "display(data['floors_total'].isna().sum())\n",
    "data['floors_total'].value_counts()"
   ]
  },
  {
   "cell_type": "markdown",
   "id": "cc2ad543",
   "metadata": {},
   "source": [
    "Небольшая часть значений потеряна. Пропуски можно модой по текущему этажу. Также нужно изменить тип данных на целочисленный."
   ]
  },
  {
   "cell_type": "code",
   "execution_count": 8,
   "id": "86b7d9f4",
   "metadata": {},
   "outputs": [
    {
     "data": {
      "text/plain": [
       "1903"
      ]
     },
     "metadata": {},
     "output_type": "display_data"
    },
    {
     "data": {
      "text/plain": [
       "18.00    882\n",
       "17.00    675\n",
       "30.00    598\n",
       "16.00    486\n",
       "20.00    481\n",
       "        ... \n",
       "96.40      1\n",
       "50.26      1\n",
       "43.81      1\n",
       "54.43      1\n",
       "16.74      1\n",
       "Name: living_area, Length: 1782, dtype: int64"
      ]
     },
     "execution_count": 8,
     "metadata": {},
     "output_type": "execute_result"
    }
   ],
   "source": [
    "display(data['living_area'].isna().sum())\n",
    "data['living_area'].value_counts()"
   ]
  },
  {
   "cell_type": "markdown",
   "id": "80e43ad3",
   "metadata": {},
   "source": [
    "Примерно 9% данных утеряно. Их можно восстановить медианой по количеству комнат. Причиной пропусков может служить технический сбой или нежелание людей указывать жилую площадь."
   ]
  },
  {
   "cell_type": "code",
   "execution_count": 9,
   "id": "852df537",
   "metadata": {},
   "outputs": [
    {
     "data": {
      "text/plain": [
       "20924"
      ]
     },
     "metadata": {},
     "output_type": "display_data"
    },
    {
     "data": {
      "text/plain": [
       "False    2725\n",
       "True       50\n",
       "Name: is_apartment, dtype: int64"
      ]
     },
     "execution_count": 9,
     "metadata": {},
     "output_type": "execute_result"
    }
   ],
   "source": [
    "display(data['is_apartment'].isna().sum())\n",
    "data['is_apartment'].value_counts()"
   ]
  },
  {
   "cell_type": "markdown",
   "id": "9255794d",
   "metadata": {},
   "source": [
    "Почти 90% данных утеряно. Такие данные тяжело восстановить, их проще оставить как есть, тем более они не повлияют на результат исследования."
   ]
  },
  {
   "cell_type": "code",
   "execution_count": 10,
   "id": "1dfab728",
   "metadata": {},
   "outputs": [
    {
     "data": {
      "text/plain": [
       "2278"
      ]
     },
     "metadata": {},
     "output_type": "display_data"
    },
    {
     "data": {
      "text/plain": [
       "6.00     1300\n",
       "10.00    1262\n",
       "8.00     1110\n",
       "9.00     1101\n",
       "7.00     1062\n",
       "         ... \n",
       "7.12        1\n",
       "13.73       1\n",
       "14.74       1\n",
       "53.10       1\n",
       "16.74       1\n",
       "Name: kitchen_area, Length: 971, dtype: int64"
      ]
     },
     "execution_count": 10,
     "metadata": {},
     "output_type": "execute_result"
    }
   ],
   "source": [
    "display(data['kitchen_area'].isna().sum())\n",
    "data['kitchen_area'].value_counts()"
   ]
  },
  {
   "cell_type": "markdown",
   "id": "23905d5c",
   "metadata": {},
   "source": [
    "Примерно 10% данных утеряно. Пропуски можно заполнить медианой. Причины прокусков могут быть такими же как и в столбце с жилой слощадью."
   ]
  },
  {
   "cell_type": "code",
   "execution_count": 11,
   "id": "41d8e00a",
   "metadata": {},
   "outputs": [
    {
     "data": {
      "text/plain": [
       "11519"
      ]
     },
     "metadata": {},
     "output_type": "display_data"
    },
    {
     "data": {
      "text/plain": [
       "1.0    4195\n",
       "0.0    3758\n",
       "2.0    3659\n",
       "5.0     304\n",
       "4.0     183\n",
       "3.0      81\n",
       "Name: balcony, dtype: int64"
      ]
     },
     "execution_count": 11,
     "metadata": {},
     "output_type": "execute_result"
    }
   ],
   "source": [
    "display(data['balcony'].isna().sum())\n",
    "data['balcony'].value_counts()"
   ]
  },
  {
   "cell_type": "markdown",
   "id": "26013fd0",
   "metadata": {},
   "source": [
    "Половина значений утеряна. Пропущенные значения скорее всего указывают на отсутствие балкона. Такие пропуски следует заполнить нулями."
   ]
  },
  {
   "cell_type": "code",
   "execution_count": 12,
   "id": "8d8154e7",
   "metadata": {},
   "outputs": [
    {
     "data": {
      "text/plain": [
       "49"
      ]
     },
     "metadata": {},
     "output_type": "display_data"
    },
    {
     "data": {
      "text/plain": [
       "Санкт-Петербург            15721\n",
       "посёлок Мурино               522\n",
       "посёлок Шушары               440\n",
       "Всеволожск                   398\n",
       "Пушкин                       369\n",
       "                           ...  \n",
       "поселок Коробицыно             1\n",
       "поселок Дружноселье            1\n",
       "деревня Большой Сабск          1\n",
       "деревня Вахнова Кара           1\n",
       "поселок станции Корнево        1\n",
       "Name: locality_name, Length: 364, dtype: int64"
      ]
     },
     "execution_count": 12,
     "metadata": {},
     "output_type": "execute_result"
    }
   ],
   "source": [
    "display(data['locality_name'].isna().sum())\n",
    "data['locality_name'].value_counts()"
   ]
  },
  {
   "cell_type": "markdown",
   "id": "40e04aa0",
   "metadata": {},
   "source": [
    "Утеряно меньше 1% данных. Пропуски можно заполнить например значением 'неопределён' либо убрать эти строки из выборки."
   ]
  },
  {
   "cell_type": "code",
   "execution_count": 13,
   "id": "23b5de5f",
   "metadata": {},
   "outputs": [
    {
     "data": {
      "text/plain": [
       "airports_nearest           0\n",
       "cityCenters_nearest        1\n",
       "parks_around3000           0\n",
       "parks_nearest          10098\n",
       "ponds_around3000           0\n",
       "ponds_nearest           9055\n",
       "dtype: int64"
      ]
     },
     "execution_count": 13,
     "metadata": {},
     "output_type": "execute_result"
    }
   ],
   "source": [
    "data.loc[~(data['airports_nearest'].isna())].loc[:, 'airports_nearest': 'ponds_nearest'].isna().sum()"
   ]
  },
  {
   "cell_type": "markdown",
   "id": "d0f0de15",
   "metadata": {},
   "source": [
    "В колонках airports_nearest, cityCenters_nearest, parks_around3000, parks_nearest, ponds_around3000, ponds_nearest значения отсутствуют в одинаковых строках, видимо программа не смогла правильно расчитать расстояние до центра, либо чать данных была утеряна при передача либо данных геолокации не хватило для правильного расчета значений."
   ]
  },
  {
   "cell_type": "markdown",
   "id": "f34a3d4a",
   "metadata": {},
   "source": [
    "## Предобработка данных"
   ]
  },
  {
   "cell_type": "markdown",
   "id": "6802aeba",
   "metadata": {},
   "source": [
    "#### Приведение столбцов к единому стилю"
   ]
  },
  {
   "cell_type": "code",
   "execution_count": 14,
   "id": "62c3edd7",
   "metadata": {},
   "outputs": [],
   "source": [
    "data = data.rename(columns={\n",
    "    'cityCenters_nearest' : 'city_center_nearest'\n",
    "})"
   ]
  },
  {
   "cell_type": "markdown",
   "id": "a6fc1001",
   "metadata": {},
   "source": [
    "#### Убираем слишком большие значения в столбце с высотой потолков\n",
    "\n",
    "Значения больше 20м скорее всего указаны на десяток больше чем есть на самом деле (такие значения разделим на 10), строки со значениями от 10м до 20м просто удалим (их всего 2)."
   ]
  },
  {
   "cell_type": "code",
   "execution_count": 15,
   "id": "b56be953",
   "metadata": {},
   "outputs": [
    {
     "data": {
      "text/plain": [
       "array([  2.7 ,    nan,   3.03,   2.5 ,   2.67,   2.56,   3.05,   2.75,\n",
       "         2.6 ,   2.9 ,   2.8 ,   2.55,   3.  ,   2.65,   3.2 ,   2.61,\n",
       "         3.25,   3.45,   2.77,   2.85,   2.64,   2.57,   4.15,   3.5 ,\n",
       "         3.3 ,   2.71,   4.  ,   2.47,   2.73,   2.84,   3.1 ,   2.34,\n",
       "         3.4 ,   3.06,   2.72,   2.54,   2.51,   2.78,   2.76,  25.  ,\n",
       "         2.58,   3.7 ,   2.52,   5.2 ,   2.87,   2.66,   2.59,   2.  ,\n",
       "         2.45,   3.6 ,   2.92,   3.11,   3.13,   3.8 ,   3.15,   3.55,\n",
       "         3.16,   3.62,   3.12,   2.53,   2.74,   2.96,   2.46,   5.3 ,\n",
       "         5.  ,   2.79,   2.95,   4.06,   2.94,   3.82,   3.54,   3.53,\n",
       "         2.83,   4.7 ,   2.4 ,   3.38,   3.01,   5.6 ,   3.65,   3.9 ,\n",
       "         3.18,   3.35,   2.3 ,   3.57,   2.48,   2.62,   2.82,   3.98,\n",
       "         2.63,   3.83,   3.52,   3.95,   3.75,   2.88,   3.67,   3.87,\n",
       "         3.66,   3.85,   3.86,   4.19,   3.24,   4.8 ,   4.5 ,   4.2 ,\n",
       "         3.36,  32.  ,   3.08,   3.68,   3.07,   3.37,   3.09,   8.  ,\n",
       "         3.26,   3.34,   2.81,   3.44,   2.97,   3.14,   4.37,   2.68,\n",
       "         3.22,   3.27,  27.  ,   4.1 ,   2.93,   3.46,  24.  ,   3.47,\n",
       "         3.33,   3.63,   3.32,  26.  ,   1.2 ,   8.3 ,   2.98,   2.86,\n",
       "         3.17,   4.4 ,   3.28,   3.04,   4.45,   5.5 ,   3.84,   3.23,\n",
       "         3.02,   3.21,   3.43,   3.78,   4.3 ,   3.39,   2.69,   3.31,\n",
       "         4.65,   3.56,   2.2 ,   3.51,   3.93,   3.42,   2.99,   3.49,\n",
       "        14.  ,   4.14,   2.91,   3.88,   1.75,   4.25,   3.29,  20.  ,\n",
       "         2.25,   3.76,   3.69,   6.  ,  22.6 ,   2.89,   3.58,   5.8 ,\n",
       "        27.5 ,   2.49,   4.9 ,   3.48,  10.3 ,   1.  , 100.  ,   3.59])"
      ]
     },
     "execution_count": 15,
     "metadata": {},
     "output_type": "execute_result"
    }
   ],
   "source": [
    "data['ceiling_height'].unique()"
   ]
  },
  {
   "cell_type": "code",
   "execution_count": 16,
   "id": "36fdacf0",
   "metadata": {},
   "outputs": [
    {
     "data": {
      "text/plain": [
       "2"
      ]
     },
     "execution_count": 16,
     "metadata": {},
     "output_type": "execute_result"
    }
   ],
   "source": [
    "data.loc[(data['ceiling_height'] == 14.) | (data['ceiling_height'] == 10.3), 'ceiling_height'].count()"
   ]
  },
  {
   "cell_type": "code",
   "execution_count": 17,
   "id": "f25d26e4-3943-4013-b22f-ec1708df896d",
   "metadata": {},
   "outputs": [],
   "source": [
    "data = data[(data['ceiling_height'] != 14.) & (data['ceiling_height'] != 10.3)]\n",
    "data.loc[data['ceiling_height'] > 20, 'ceiling_height'] /= 10"
   ]
  },
  {
   "cell_type": "markdown",
   "id": "07d3a02f",
   "metadata": {},
   "source": [
    "##### Заполняем пропуски медианой."
   ]
  },
  {
   "cell_type": "code",
   "execution_count": 18,
   "id": "57886056",
   "metadata": {},
   "outputs": [],
   "source": [
    "data['ceiling_height'] = data['ceiling_height'].fillna(data['ceiling_height'].median())"
   ]
  },
  {
   "cell_type": "markdown",
   "id": "6726b3c6",
   "metadata": {},
   "source": [
    "#### Заменяем пропуски в колонках ponds_around3000, parks_around3000 и balcony на нули."
   ]
  },
  {
   "cell_type": "code",
   "execution_count": 19,
   "id": "794ed848-63cf-4ea4-84cd-66ce72cfd74d",
   "metadata": {},
   "outputs": [
    {
     "data": {
      "text/plain": [
       "0.0    15276\n",
       "1.0     4195\n",
       "2.0     3658\n",
       "5.0      304\n",
       "4.0      183\n",
       "3.0       81\n",
       "Name: balcony, dtype: int64"
      ]
     },
     "metadata": {},
     "output_type": "display_data"
    },
    {
     "data": {
      "text/plain": [
       "0.0    15623\n",
       "1.0     5681\n",
       "2.0     1746\n",
       "3.0      647\n",
       "Name: parks_around3000, dtype: int64"
      ]
     },
     "metadata": {},
     "output_type": "display_data"
    },
    {
     "data": {
      "text/plain": [
       "0.0    14588\n",
       "1.0     5717\n",
       "2.0     1891\n",
       "3.0     1501\n",
       "Name: ponds_around3000, dtype: int64"
      ]
     },
     "execution_count": 19,
     "metadata": {},
     "output_type": "execute_result"
    }
   ],
   "source": [
    "data['parks_around3000'] = data['parks_around3000'].fillna(0)\n",
    "data['ponds_around3000'] = data['ponds_around3000'].fillna(0)\n",
    "data['balcony'] = data['balcony'].fillna(0)\n",
    "display(data['balcony'].value_counts())\n",
    "display(data['parks_around3000'].value_counts())\n",
    "data['ponds_around3000'].value_counts()"
   ]
  },
  {
   "cell_type": "markdown",
   "id": "bc3b8009",
   "metadata": {},
   "source": [
    "#### Заполняем пропуски в колонке living_area медианой по количеству комнат.\n",
    "\n",
    "Количество комнат больше всего влияет на жилую площадь."
   ]
  },
  {
   "cell_type": "code",
   "execution_count": 20,
   "id": "900cf1dd",
   "metadata": {},
   "outputs": [
    {
     "data": {
      "text/plain": [
       "18.00    882\n",
       "17.00    675\n",
       "30.00    598\n",
       "16.00    486\n",
       "20.00    481\n",
       "        ... \n",
       "96.40      1\n",
       "50.26      1\n",
       "43.81      1\n",
       "54.43      1\n",
       "16.74      1\n",
       "Name: living_area, Length: 1782, dtype: int64"
      ]
     },
     "metadata": {},
     "output_type": "display_data"
    },
    {
     "data": {
      "text/plain": [
       "0"
      ]
     },
     "metadata": {},
     "output_type": "display_data"
    },
    {
     "data": {
      "text/plain": [
       "18.00    896\n",
       "17.60    755\n",
       "30.50    710\n",
       "17.00    675\n",
       "30.00    598\n",
       "        ... \n",
       "96.40      1\n",
       "50.26      1\n",
       "43.81      1\n",
       "54.43      1\n",
       "16.74      1\n",
       "Name: living_area, Length: 1783, dtype: int64"
      ]
     },
     "execution_count": 20,
     "metadata": {},
     "output_type": "execute_result"
    }
   ],
   "source": [
    "display(data['living_area'].value_counts())\n",
    "for t in data['rooms'].unique():\n",
    "    data.loc[(data['rooms'] == t) & (data['living_area'].isna()), 'living_area'] = data.loc[(data['rooms'] == t), 'living_area'].median()\n",
    "display(data['living_area'].isna().sum())\n",
    "data['living_area'].value_counts()"
   ]
  },
  {
   "cell_type": "markdown",
   "id": "365bcd89",
   "metadata": {},
   "source": [
    "#### Заполняем пропуски в колонке количества этажей модой по этажу квартиры."
   ]
  },
  {
   "cell_type": "code",
   "execution_count": 21,
   "id": "630a99fe",
   "metadata": {},
   "outputs": [
    {
     "data": {
      "text/plain": [
       "5.0     5811\n",
       "9.0     3787\n",
       "16.0    1383\n",
       "12.0    1371\n",
       "4.0     1200\n",
       "10.0    1177\n",
       "25.0    1089\n",
       "6.0      914\n",
       "17.0     833\n",
       "3.0      668\n",
       "7.0      592\n",
       "14.0     552\n",
       "18.0     508\n",
       "24.0     469\n",
       "8.0      390\n",
       "2.0      383\n",
       "15.0     365\n",
       "23.0     352\n",
       "19.0     339\n",
       "22.0     286\n",
       "20.0     271\n",
       "13.0     229\n",
       "11.0     203\n",
       "27.0     164\n",
       "21.0     158\n",
       "26.0     124\n",
       "1.0       25\n",
       "35.0      24\n",
       "28.0      21\n",
       "36.0       3\n",
       "37.0       1\n",
       "34.0       1\n",
       "33.0       1\n",
       "60.0       1\n",
       "29.0       1\n",
       "52.0       1\n",
       "Name: floors_total, dtype: int64"
      ]
     },
     "metadata": {},
     "output_type": "display_data"
    },
    {
     "data": {
      "text/plain": [
       "0"
      ]
     },
     "execution_count": 21,
     "metadata": {},
     "output_type": "execute_result"
    }
   ],
   "source": [
    "for t in data['floor'].unique():\n",
    "    data.loc[(data['floor'] == t) & (data['floors_total'].isna()), 'floors_total'] = data.loc[(data['floor'] == t), 'floors_total'].mode()[0]\n",
    "display(data['floors_total'].value_counts())\n",
    "data['floors_total'].isna().sum()"
   ]
  },
  {
   "cell_type": "markdown",
   "id": "02e62590",
   "metadata": {},
   "source": [
    "#### Заполняем пропуски в колонке с площадью кухни медианой"
   ]
  },
  {
   "cell_type": "code",
   "execution_count": 22,
   "id": "ea1cd95e",
   "metadata": {},
   "outputs": [
    {
     "data": {
      "text/plain": [
       "9.10     2358\n",
       "6.00     1300\n",
       "10.00    1262\n",
       "8.00     1110\n",
       "9.00     1101\n",
       "         ... \n",
       "7.12        1\n",
       "13.73       1\n",
       "14.74       1\n",
       "53.10       1\n",
       "16.74       1\n",
       "Name: kitchen_area, Length: 971, dtype: int64"
      ]
     },
     "metadata": {},
     "output_type": "display_data"
    },
    {
     "data": {
      "text/plain": [
       "0"
      ]
     },
     "execution_count": 22,
     "metadata": {},
     "output_type": "execute_result"
    }
   ],
   "source": [
    "data['kitchen_area'] = data['kitchen_area'].fillna(data['kitchen_area'].median())\n",
    "display(data['kitchen_area'].value_counts())\n",
    "data['kitchen_area'].isna().sum()"
   ]
  },
  {
   "cell_type": "markdown",
   "id": "0a6bdab2",
   "metadata": {},
   "source": [
    "#### Заколняем прокуски в имени локации значением 'неопределена'"
   ]
  },
  {
   "cell_type": "code",
   "execution_count": 23,
   "id": "a59628ef",
   "metadata": {},
   "outputs": [
    {
     "data": {
      "text/plain": [
       "Санкт-Петербург            15719\n",
       "посёлок Мурино               522\n",
       "посёлок Шушары               440\n",
       "Всеволожск                   398\n",
       "Пушкин                       369\n",
       "                           ...  \n",
       "поселок Коробицыно             1\n",
       "поселок Гладкое                1\n",
       "поселок Дружноселье            1\n",
       "деревня Большой Сабск          1\n",
       "поселок станции Корнево        1\n",
       "Name: locality_name, Length: 365, dtype: int64"
      ]
     },
     "metadata": {},
     "output_type": "display_data"
    },
    {
     "data": {
      "text/plain": [
       "0"
      ]
     },
     "execution_count": 23,
     "metadata": {},
     "output_type": "execute_result"
    }
   ],
   "source": [
    "data['locality_name'] = data['locality_name'].fillna('Неопределена')\n",
    "display(data['locality_name'].value_counts())\n",
    "data['locality_name'].isna().sum()"
   ]
  },
  {
   "cell_type": "markdown",
   "id": "647b5015",
   "metadata": {},
   "source": [
    "#### Заполняем пропуски в колонках airports_nearest, city_center_nearest, parks_nearest, ponds_nearest медианой для каждого столбца"
   ]
  },
  {
   "cell_type": "code",
   "execution_count": 24,
   "id": "636ccafc",
   "metadata": {},
   "outputs": [
    {
     "data": {
      "text/plain": [
       "airports_nearest       0\n",
       "city_center_nearest    0\n",
       "parks_nearest          0\n",
       "ponds_nearest          0\n",
       "dtype: int64"
      ]
     },
     "execution_count": 24,
     "metadata": {},
     "output_type": "execute_result"
    }
   ],
   "source": [
    "for t in ['airports_nearest', 'city_center_nearest', 'parks_nearest', 'ponds_nearest']:\n",
    "    data[t] = data[t].fillna(data[t].median())\n",
    "data.loc[:, ['airports_nearest', 'city_center_nearest', 'parks_nearest', 'ponds_nearest']].isna().sum()"
   ]
  },
  {
   "cell_type": "markdown",
   "id": "1b188d0b",
   "metadata": {},
   "source": [
    "#### Заполняем пропуски в колонке days_exposition средним значением"
   ]
  },
  {
   "cell_type": "code",
   "execution_count": 25,
   "id": "9a372898",
   "metadata": {},
   "outputs": [
    {
     "data": {
      "text/plain": [
       "0"
      ]
     },
     "execution_count": 25,
     "metadata": {},
     "output_type": "execute_result"
    }
   ],
   "source": [
    "data['days_exposition'] = data['days_exposition'].fillna(data['days_exposition'].mean())\n",
    "data['days_exposition'].isna().sum()"
   ]
  },
  {
   "cell_type": "markdown",
   "id": "dad7be04",
   "metadata": {},
   "source": [
    "#### Проверяем остались ли пропуски в данных"
   ]
  },
  {
   "cell_type": "code",
   "execution_count": 26,
   "id": "af0b1d38",
   "metadata": {},
   "outputs": [
    {
     "data": {
      "text/plain": [
       "total_images                0\n",
       "last_price                  0\n",
       "total_area                  0\n",
       "first_day_exposition        0\n",
       "rooms                       0\n",
       "ceiling_height              0\n",
       "floors_total                0\n",
       "living_area                 0\n",
       "floor                       0\n",
       "is_apartment            20922\n",
       "studio                      0\n",
       "open_plan                   0\n",
       "kitchen_area                0\n",
       "balcony                     0\n",
       "locality_name               0\n",
       "airports_nearest            0\n",
       "city_center_nearest         0\n",
       "parks_around3000            0\n",
       "parks_nearest               0\n",
       "ponds_around3000            0\n",
       "ponds_nearest               0\n",
       "days_exposition             0\n",
       "dtype: int64"
      ]
     },
     "execution_count": 26,
     "metadata": {},
     "output_type": "execute_result"
    }
   ],
   "source": [
    "data.isna().sum()"
   ]
  },
  {
   "cell_type": "markdown",
   "id": "f4be4319",
   "metadata": {},
   "source": [
    "#### Изменяем типы данных в колонках, где это необходимо"
   ]
  },
  {
   "cell_type": "markdown",
   "id": "35fcc0f8",
   "metadata": {},
   "source": [
    "Ещё раз откроем общую информацию о данных."
   ]
  },
  {
   "cell_type": "code",
   "execution_count": 27,
   "id": "d13631e9",
   "metadata": {},
   "outputs": [
    {
     "name": "stdout",
     "output_type": "stream",
     "text": [
      "<class 'pandas.core.frame.DataFrame'>\n",
      "Int64Index: 23697 entries, 0 to 23698\n",
      "Data columns (total 22 columns):\n",
      " #   Column                Non-Null Count  Dtype  \n",
      "---  ------                --------------  -----  \n",
      " 0   total_images          23697 non-null  int64  \n",
      " 1   last_price            23697 non-null  float64\n",
      " 2   total_area            23697 non-null  float64\n",
      " 3   first_day_exposition  23697 non-null  object \n",
      " 4   rooms                 23697 non-null  int64  \n",
      " 5   ceiling_height        23697 non-null  float64\n",
      " 6   floors_total          23697 non-null  float64\n",
      " 7   living_area           23697 non-null  float64\n",
      " 8   floor                 23697 non-null  int64  \n",
      " 9   is_apartment          2775 non-null   object \n",
      " 10  studio                23697 non-null  bool   \n",
      " 11  open_plan             23697 non-null  bool   \n",
      " 12  kitchen_area          23697 non-null  float64\n",
      " 13  balcony               23697 non-null  float64\n",
      " 14  locality_name         23697 non-null  object \n",
      " 15  airports_nearest      23697 non-null  float64\n",
      " 16  city_center_nearest   23697 non-null  float64\n",
      " 17  parks_around3000      23697 non-null  float64\n",
      " 18  parks_nearest         23697 non-null  float64\n",
      " 19  ponds_around3000      23697 non-null  float64\n",
      " 20  ponds_nearest         23697 non-null  float64\n",
      " 21  days_exposition       23697 non-null  float64\n",
      "dtypes: bool(2), float64(14), int64(3), object(3)\n",
      "memory usage: 3.8+ MB\n"
     ]
    }
   ],
   "source": [
    "data.info()"
   ]
  },
  {
   "cell_type": "code",
   "execution_count": 28,
   "id": "f20b3556",
   "metadata": {},
   "outputs": [
    {
     "data": {
      "text/html": [
       "<div>\n",
       "<style scoped>\n",
       "    .dataframe tbody tr th:only-of-type {\n",
       "        vertical-align: middle;\n",
       "    }\n",
       "\n",
       "    .dataframe tbody tr th {\n",
       "        vertical-align: top;\n",
       "    }\n",
       "\n",
       "    .dataframe thead th {\n",
       "        text-align: right;\n",
       "    }\n",
       "</style>\n",
       "<table border=\"1\" class=\"dataframe\">\n",
       "  <thead>\n",
       "    <tr style=\"text-align: right;\">\n",
       "      <th></th>\n",
       "      <th>total_images</th>\n",
       "      <th>last_price</th>\n",
       "      <th>total_area</th>\n",
       "      <th>first_day_exposition</th>\n",
       "      <th>rooms</th>\n",
       "      <th>ceiling_height</th>\n",
       "      <th>floors_total</th>\n",
       "      <th>living_area</th>\n",
       "      <th>floor</th>\n",
       "      <th>is_apartment</th>\n",
       "      <th>...</th>\n",
       "      <th>kitchen_area</th>\n",
       "      <th>balcony</th>\n",
       "      <th>locality_name</th>\n",
       "      <th>airports_nearest</th>\n",
       "      <th>city_center_nearest</th>\n",
       "      <th>parks_around3000</th>\n",
       "      <th>parks_nearest</th>\n",
       "      <th>ponds_around3000</th>\n",
       "      <th>ponds_nearest</th>\n",
       "      <th>days_exposition</th>\n",
       "    </tr>\n",
       "  </thead>\n",
       "  <tbody>\n",
       "    <tr>\n",
       "      <th>0</th>\n",
       "      <td>20</td>\n",
       "      <td>13000000.0</td>\n",
       "      <td>108.00</td>\n",
       "      <td>2019-03-07T00:00:00</td>\n",
       "      <td>3</td>\n",
       "      <td>2.70</td>\n",
       "      <td>16.0</td>\n",
       "      <td>51.00</td>\n",
       "      <td>8</td>\n",
       "      <td>NaN</td>\n",
       "      <td>...</td>\n",
       "      <td>25.00</td>\n",
       "      <td>0.0</td>\n",
       "      <td>Санкт-Петербург</td>\n",
       "      <td>18863.0</td>\n",
       "      <td>16028.0</td>\n",
       "      <td>1.0</td>\n",
       "      <td>482.0</td>\n",
       "      <td>2.0</td>\n",
       "      <td>755.0</td>\n",
       "      <td>180.884285</td>\n",
       "    </tr>\n",
       "    <tr>\n",
       "      <th>1</th>\n",
       "      <td>7</td>\n",
       "      <td>3350000.0</td>\n",
       "      <td>40.40</td>\n",
       "      <td>2018-12-04T00:00:00</td>\n",
       "      <td>1</td>\n",
       "      <td>2.65</td>\n",
       "      <td>11.0</td>\n",
       "      <td>18.60</td>\n",
       "      <td>1</td>\n",
       "      <td>NaN</td>\n",
       "      <td>...</td>\n",
       "      <td>11.00</td>\n",
       "      <td>2.0</td>\n",
       "      <td>посёлок Шушары</td>\n",
       "      <td>12817.0</td>\n",
       "      <td>18603.0</td>\n",
       "      <td>0.0</td>\n",
       "      <td>455.0</td>\n",
       "      <td>0.0</td>\n",
       "      <td>502.0</td>\n",
       "      <td>81.000000</td>\n",
       "    </tr>\n",
       "    <tr>\n",
       "      <th>2</th>\n",
       "      <td>10</td>\n",
       "      <td>5196000.0</td>\n",
       "      <td>56.00</td>\n",
       "      <td>2015-08-20T00:00:00</td>\n",
       "      <td>2</td>\n",
       "      <td>2.65</td>\n",
       "      <td>5.0</td>\n",
       "      <td>34.30</td>\n",
       "      <td>4</td>\n",
       "      <td>NaN</td>\n",
       "      <td>...</td>\n",
       "      <td>8.30</td>\n",
       "      <td>0.0</td>\n",
       "      <td>Санкт-Петербург</td>\n",
       "      <td>21741.0</td>\n",
       "      <td>13933.0</td>\n",
       "      <td>1.0</td>\n",
       "      <td>90.0</td>\n",
       "      <td>2.0</td>\n",
       "      <td>574.0</td>\n",
       "      <td>558.000000</td>\n",
       "    </tr>\n",
       "    <tr>\n",
       "      <th>3</th>\n",
       "      <td>0</td>\n",
       "      <td>64900000.0</td>\n",
       "      <td>159.00</td>\n",
       "      <td>2015-07-24T00:00:00</td>\n",
       "      <td>3</td>\n",
       "      <td>2.65</td>\n",
       "      <td>14.0</td>\n",
       "      <td>45.00</td>\n",
       "      <td>9</td>\n",
       "      <td>NaN</td>\n",
       "      <td>...</td>\n",
       "      <td>9.10</td>\n",
       "      <td>0.0</td>\n",
       "      <td>Санкт-Петербург</td>\n",
       "      <td>28098.0</td>\n",
       "      <td>6800.0</td>\n",
       "      <td>2.0</td>\n",
       "      <td>84.0</td>\n",
       "      <td>3.0</td>\n",
       "      <td>234.0</td>\n",
       "      <td>424.000000</td>\n",
       "    </tr>\n",
       "    <tr>\n",
       "      <th>4</th>\n",
       "      <td>2</td>\n",
       "      <td>10000000.0</td>\n",
       "      <td>100.00</td>\n",
       "      <td>2018-06-19T00:00:00</td>\n",
       "      <td>2</td>\n",
       "      <td>3.03</td>\n",
       "      <td>14.0</td>\n",
       "      <td>32.00</td>\n",
       "      <td>13</td>\n",
       "      <td>NaN</td>\n",
       "      <td>...</td>\n",
       "      <td>41.00</td>\n",
       "      <td>0.0</td>\n",
       "      <td>Санкт-Петербург</td>\n",
       "      <td>31856.0</td>\n",
       "      <td>8098.0</td>\n",
       "      <td>2.0</td>\n",
       "      <td>112.0</td>\n",
       "      <td>1.0</td>\n",
       "      <td>48.0</td>\n",
       "      <td>121.000000</td>\n",
       "    </tr>\n",
       "    <tr>\n",
       "      <th>5</th>\n",
       "      <td>10</td>\n",
       "      <td>2890000.0</td>\n",
       "      <td>30.40</td>\n",
       "      <td>2018-09-10T00:00:00</td>\n",
       "      <td>1</td>\n",
       "      <td>2.65</td>\n",
       "      <td>12.0</td>\n",
       "      <td>14.40</td>\n",
       "      <td>5</td>\n",
       "      <td>NaN</td>\n",
       "      <td>...</td>\n",
       "      <td>9.10</td>\n",
       "      <td>0.0</td>\n",
       "      <td>городской посёлок Янино-1</td>\n",
       "      <td>26726.0</td>\n",
       "      <td>13098.5</td>\n",
       "      <td>0.0</td>\n",
       "      <td>455.0</td>\n",
       "      <td>0.0</td>\n",
       "      <td>502.0</td>\n",
       "      <td>55.000000</td>\n",
       "    </tr>\n",
       "    <tr>\n",
       "      <th>6</th>\n",
       "      <td>6</td>\n",
       "      <td>3700000.0</td>\n",
       "      <td>37.30</td>\n",
       "      <td>2017-11-02T00:00:00</td>\n",
       "      <td>1</td>\n",
       "      <td>2.65</td>\n",
       "      <td>26.0</td>\n",
       "      <td>10.60</td>\n",
       "      <td>6</td>\n",
       "      <td>NaN</td>\n",
       "      <td>...</td>\n",
       "      <td>14.40</td>\n",
       "      <td>1.0</td>\n",
       "      <td>посёлок Парголово</td>\n",
       "      <td>52996.0</td>\n",
       "      <td>19143.0</td>\n",
       "      <td>0.0</td>\n",
       "      <td>455.0</td>\n",
       "      <td>0.0</td>\n",
       "      <td>502.0</td>\n",
       "      <td>155.000000</td>\n",
       "    </tr>\n",
       "    <tr>\n",
       "      <th>7</th>\n",
       "      <td>5</td>\n",
       "      <td>7915000.0</td>\n",
       "      <td>71.60</td>\n",
       "      <td>2019-04-18T00:00:00</td>\n",
       "      <td>2</td>\n",
       "      <td>2.65</td>\n",
       "      <td>24.0</td>\n",
       "      <td>30.50</td>\n",
       "      <td>22</td>\n",
       "      <td>NaN</td>\n",
       "      <td>...</td>\n",
       "      <td>18.90</td>\n",
       "      <td>2.0</td>\n",
       "      <td>Санкт-Петербург</td>\n",
       "      <td>23982.0</td>\n",
       "      <td>11634.0</td>\n",
       "      <td>0.0</td>\n",
       "      <td>455.0</td>\n",
       "      <td>0.0</td>\n",
       "      <td>502.0</td>\n",
       "      <td>180.884285</td>\n",
       "    </tr>\n",
       "    <tr>\n",
       "      <th>8</th>\n",
       "      <td>20</td>\n",
       "      <td>2900000.0</td>\n",
       "      <td>33.16</td>\n",
       "      <td>2018-05-23T00:00:00</td>\n",
       "      <td>1</td>\n",
       "      <td>2.65</td>\n",
       "      <td>27.0</td>\n",
       "      <td>15.43</td>\n",
       "      <td>26</td>\n",
       "      <td>NaN</td>\n",
       "      <td>...</td>\n",
       "      <td>8.81</td>\n",
       "      <td>0.0</td>\n",
       "      <td>посёлок Мурино</td>\n",
       "      <td>26726.0</td>\n",
       "      <td>13098.5</td>\n",
       "      <td>0.0</td>\n",
       "      <td>455.0</td>\n",
       "      <td>0.0</td>\n",
       "      <td>502.0</td>\n",
       "      <td>189.000000</td>\n",
       "    </tr>\n",
       "    <tr>\n",
       "      <th>9</th>\n",
       "      <td>18</td>\n",
       "      <td>5400000.0</td>\n",
       "      <td>61.00</td>\n",
       "      <td>2017-02-26T00:00:00</td>\n",
       "      <td>3</td>\n",
       "      <td>2.50</td>\n",
       "      <td>9.0</td>\n",
       "      <td>43.60</td>\n",
       "      <td>7</td>\n",
       "      <td>NaN</td>\n",
       "      <td>...</td>\n",
       "      <td>6.50</td>\n",
       "      <td>2.0</td>\n",
       "      <td>Санкт-Петербург</td>\n",
       "      <td>50898.0</td>\n",
       "      <td>15008.0</td>\n",
       "      <td>0.0</td>\n",
       "      <td>455.0</td>\n",
       "      <td>0.0</td>\n",
       "      <td>502.0</td>\n",
       "      <td>289.000000</td>\n",
       "    </tr>\n",
       "  </tbody>\n",
       "</table>\n",
       "<p>10 rows × 22 columns</p>\n",
       "</div>"
      ],
      "text/plain": [
       "   total_images  last_price  total_area first_day_exposition  rooms  \\\n",
       "0            20  13000000.0      108.00  2019-03-07T00:00:00      3   \n",
       "1             7   3350000.0       40.40  2018-12-04T00:00:00      1   \n",
       "2            10   5196000.0       56.00  2015-08-20T00:00:00      2   \n",
       "3             0  64900000.0      159.00  2015-07-24T00:00:00      3   \n",
       "4             2  10000000.0      100.00  2018-06-19T00:00:00      2   \n",
       "5            10   2890000.0       30.40  2018-09-10T00:00:00      1   \n",
       "6             6   3700000.0       37.30  2017-11-02T00:00:00      1   \n",
       "7             5   7915000.0       71.60  2019-04-18T00:00:00      2   \n",
       "8            20   2900000.0       33.16  2018-05-23T00:00:00      1   \n",
       "9            18   5400000.0       61.00  2017-02-26T00:00:00      3   \n",
       "\n",
       "   ceiling_height  floors_total  living_area  floor is_apartment  ...  \\\n",
       "0            2.70          16.0        51.00      8          NaN  ...   \n",
       "1            2.65          11.0        18.60      1          NaN  ...   \n",
       "2            2.65           5.0        34.30      4          NaN  ...   \n",
       "3            2.65          14.0        45.00      9          NaN  ...   \n",
       "4            3.03          14.0        32.00     13          NaN  ...   \n",
       "5            2.65          12.0        14.40      5          NaN  ...   \n",
       "6            2.65          26.0        10.60      6          NaN  ...   \n",
       "7            2.65          24.0        30.50     22          NaN  ...   \n",
       "8            2.65          27.0        15.43     26          NaN  ...   \n",
       "9            2.50           9.0        43.60      7          NaN  ...   \n",
       "\n",
       "   kitchen_area  balcony              locality_name  airports_nearest  \\\n",
       "0         25.00      0.0            Санкт-Петербург           18863.0   \n",
       "1         11.00      2.0             посёлок Шушары           12817.0   \n",
       "2          8.30      0.0            Санкт-Петербург           21741.0   \n",
       "3          9.10      0.0            Санкт-Петербург           28098.0   \n",
       "4         41.00      0.0            Санкт-Петербург           31856.0   \n",
       "5          9.10      0.0  городской посёлок Янино-1           26726.0   \n",
       "6         14.40      1.0          посёлок Парголово           52996.0   \n",
       "7         18.90      2.0            Санкт-Петербург           23982.0   \n",
       "8          8.81      0.0             посёлок Мурино           26726.0   \n",
       "9          6.50      2.0            Санкт-Петербург           50898.0   \n",
       "\n",
       "  city_center_nearest  parks_around3000  parks_nearest  ponds_around3000  \\\n",
       "0             16028.0               1.0          482.0               2.0   \n",
       "1             18603.0               0.0          455.0               0.0   \n",
       "2             13933.0               1.0           90.0               2.0   \n",
       "3              6800.0               2.0           84.0               3.0   \n",
       "4              8098.0               2.0          112.0               1.0   \n",
       "5             13098.5               0.0          455.0               0.0   \n",
       "6             19143.0               0.0          455.0               0.0   \n",
       "7             11634.0               0.0          455.0               0.0   \n",
       "8             13098.5               0.0          455.0               0.0   \n",
       "9             15008.0               0.0          455.0               0.0   \n",
       "\n",
       "   ponds_nearest  days_exposition  \n",
       "0          755.0       180.884285  \n",
       "1          502.0        81.000000  \n",
       "2          574.0       558.000000  \n",
       "3          234.0       424.000000  \n",
       "4           48.0       121.000000  \n",
       "5          502.0        55.000000  \n",
       "6          502.0       155.000000  \n",
       "7          502.0       180.884285  \n",
       "8          502.0       189.000000  \n",
       "9          502.0       289.000000  \n",
       "\n",
       "[10 rows x 22 columns]"
      ]
     },
     "execution_count": 28,
     "metadata": {},
     "output_type": "execute_result"
    }
   ],
   "source": [
    "data.head(10)"
   ]
  },
  {
   "cell_type": "markdown",
   "id": "3cdb4ecf",
   "metadata": {},
   "source": [
    "* Колонки last_price, floors_total, balcony, parks_around3000, ponds_around3000, days_exposition имеют тип float хотя хранят целочисленные значения. В целях экономии памяти лучше изменить тип этих колонок на int.\n",
    "* Значения в колонке first_day_exposition для убодства работы преобразуем в тип datetime.\n",
    "* Значения в столбце is_apartament имеют значения True и False, но имеют тип object. В целях экономии памяти лучше изменить тип этих колонок на bool."
   ]
  },
  {
   "cell_type": "code",
   "execution_count": 29,
   "id": "009e634f",
   "metadata": {},
   "outputs": [
    {
     "name": "stdout",
     "output_type": "stream",
     "text": [
      "<class 'pandas.core.frame.DataFrame'>\n",
      "Int64Index: 23697 entries, 0 to 23698\n",
      "Data columns (total 22 columns):\n",
      " #   Column                Non-Null Count  Dtype  \n",
      "---  ------                --------------  -----  \n",
      " 0   total_images          23697 non-null  int64  \n",
      " 1   last_price            23697 non-null  int32  \n",
      " 2   total_area            23697 non-null  float64\n",
      " 3   first_day_exposition  23697 non-null  object \n",
      " 4   rooms                 23697 non-null  int64  \n",
      " 5   ceiling_height        23697 non-null  float64\n",
      " 6   floors_total          23697 non-null  int32  \n",
      " 7   living_area           23697 non-null  float64\n",
      " 8   floor                 23697 non-null  int64  \n",
      " 9   is_apartment          2775 non-null   object \n",
      " 10  studio                23697 non-null  bool   \n",
      " 11  open_plan             23697 non-null  bool   \n",
      " 12  kitchen_area          23697 non-null  float64\n",
      " 13  balcony               23697 non-null  int32  \n",
      " 14  locality_name         23697 non-null  object \n",
      " 15  airports_nearest      23697 non-null  float64\n",
      " 16  city_center_nearest   23697 non-null  float64\n",
      " 17  parks_around3000      23697 non-null  int32  \n",
      " 18  parks_nearest         23697 non-null  float64\n",
      " 19  ponds_around3000      23697 non-null  int32  \n",
      " 20  ponds_nearest         23697 non-null  float64\n",
      " 21  days_exposition       23697 non-null  int32  \n",
      "dtypes: bool(2), float64(8), int32(6), int64(3), object(3)\n",
      "memory usage: 3.3+ MB\n"
     ]
    }
   ],
   "source": [
    "for t in ['last_price', 'floors_total', 'balcony', 'parks_around3000', 'ponds_around3000', 'days_exposition']:\n",
    "    data[t] = data[t].astype('int')\n",
    "data.info()"
   ]
  },
  {
   "cell_type": "code",
   "execution_count": 30,
   "id": "9689fe41",
   "metadata": {},
   "outputs": [
    {
     "data": {
      "text/html": [
       "<div>\n",
       "<style scoped>\n",
       "    .dataframe tbody tr th:only-of-type {\n",
       "        vertical-align: middle;\n",
       "    }\n",
       "\n",
       "    .dataframe tbody tr th {\n",
       "        vertical-align: top;\n",
       "    }\n",
       "\n",
       "    .dataframe thead th {\n",
       "        text-align: right;\n",
       "    }\n",
       "</style>\n",
       "<table border=\"1\" class=\"dataframe\">\n",
       "  <thead>\n",
       "    <tr style=\"text-align: right;\">\n",
       "      <th></th>\n",
       "      <th>total_images</th>\n",
       "      <th>last_price</th>\n",
       "      <th>total_area</th>\n",
       "      <th>first_day_exposition</th>\n",
       "      <th>rooms</th>\n",
       "      <th>ceiling_height</th>\n",
       "      <th>floors_total</th>\n",
       "      <th>living_area</th>\n",
       "      <th>floor</th>\n",
       "      <th>is_apartment</th>\n",
       "      <th>...</th>\n",
       "      <th>kitchen_area</th>\n",
       "      <th>balcony</th>\n",
       "      <th>locality_name</th>\n",
       "      <th>airports_nearest</th>\n",
       "      <th>city_center_nearest</th>\n",
       "      <th>parks_around3000</th>\n",
       "      <th>parks_nearest</th>\n",
       "      <th>ponds_around3000</th>\n",
       "      <th>ponds_nearest</th>\n",
       "      <th>days_exposition</th>\n",
       "    </tr>\n",
       "  </thead>\n",
       "  <tbody>\n",
       "    <tr>\n",
       "      <th>0</th>\n",
       "      <td>20</td>\n",
       "      <td>13000000</td>\n",
       "      <td>108.0</td>\n",
       "      <td>2019-03-07</td>\n",
       "      <td>3</td>\n",
       "      <td>2.70</td>\n",
       "      <td>16</td>\n",
       "      <td>51.0</td>\n",
       "      <td>8</td>\n",
       "      <td>NaN</td>\n",
       "      <td>...</td>\n",
       "      <td>25.0</td>\n",
       "      <td>0</td>\n",
       "      <td>Санкт-Петербург</td>\n",
       "      <td>18863.0</td>\n",
       "      <td>16028.0</td>\n",
       "      <td>1</td>\n",
       "      <td>482.0</td>\n",
       "      <td>2</td>\n",
       "      <td>755.0</td>\n",
       "      <td>180</td>\n",
       "    </tr>\n",
       "    <tr>\n",
       "      <th>1</th>\n",
       "      <td>7</td>\n",
       "      <td>3350000</td>\n",
       "      <td>40.4</td>\n",
       "      <td>2018-12-04</td>\n",
       "      <td>1</td>\n",
       "      <td>2.65</td>\n",
       "      <td>11</td>\n",
       "      <td>18.6</td>\n",
       "      <td>1</td>\n",
       "      <td>NaN</td>\n",
       "      <td>...</td>\n",
       "      <td>11.0</td>\n",
       "      <td>2</td>\n",
       "      <td>посёлок Шушары</td>\n",
       "      <td>12817.0</td>\n",
       "      <td>18603.0</td>\n",
       "      <td>0</td>\n",
       "      <td>455.0</td>\n",
       "      <td>0</td>\n",
       "      <td>502.0</td>\n",
       "      <td>81</td>\n",
       "    </tr>\n",
       "    <tr>\n",
       "      <th>2</th>\n",
       "      <td>10</td>\n",
       "      <td>5196000</td>\n",
       "      <td>56.0</td>\n",
       "      <td>2015-08-20</td>\n",
       "      <td>2</td>\n",
       "      <td>2.65</td>\n",
       "      <td>5</td>\n",
       "      <td>34.3</td>\n",
       "      <td>4</td>\n",
       "      <td>NaN</td>\n",
       "      <td>...</td>\n",
       "      <td>8.3</td>\n",
       "      <td>0</td>\n",
       "      <td>Санкт-Петербург</td>\n",
       "      <td>21741.0</td>\n",
       "      <td>13933.0</td>\n",
       "      <td>1</td>\n",
       "      <td>90.0</td>\n",
       "      <td>2</td>\n",
       "      <td>574.0</td>\n",
       "      <td>558</td>\n",
       "    </tr>\n",
       "    <tr>\n",
       "      <th>3</th>\n",
       "      <td>0</td>\n",
       "      <td>64900000</td>\n",
       "      <td>159.0</td>\n",
       "      <td>2015-07-24</td>\n",
       "      <td>3</td>\n",
       "      <td>2.65</td>\n",
       "      <td>14</td>\n",
       "      <td>45.0</td>\n",
       "      <td>9</td>\n",
       "      <td>NaN</td>\n",
       "      <td>...</td>\n",
       "      <td>9.1</td>\n",
       "      <td>0</td>\n",
       "      <td>Санкт-Петербург</td>\n",
       "      <td>28098.0</td>\n",
       "      <td>6800.0</td>\n",
       "      <td>2</td>\n",
       "      <td>84.0</td>\n",
       "      <td>3</td>\n",
       "      <td>234.0</td>\n",
       "      <td>424</td>\n",
       "    </tr>\n",
       "    <tr>\n",
       "      <th>4</th>\n",
       "      <td>2</td>\n",
       "      <td>10000000</td>\n",
       "      <td>100.0</td>\n",
       "      <td>2018-06-19</td>\n",
       "      <td>2</td>\n",
       "      <td>3.03</td>\n",
       "      <td>14</td>\n",
       "      <td>32.0</td>\n",
       "      <td>13</td>\n",
       "      <td>NaN</td>\n",
       "      <td>...</td>\n",
       "      <td>41.0</td>\n",
       "      <td>0</td>\n",
       "      <td>Санкт-Петербург</td>\n",
       "      <td>31856.0</td>\n",
       "      <td>8098.0</td>\n",
       "      <td>2</td>\n",
       "      <td>112.0</td>\n",
       "      <td>1</td>\n",
       "      <td>48.0</td>\n",
       "      <td>121</td>\n",
       "    </tr>\n",
       "  </tbody>\n",
       "</table>\n",
       "<p>5 rows × 22 columns</p>\n",
       "</div>"
      ],
      "text/plain": [
       "   total_images  last_price  total_area first_day_exposition  rooms  \\\n",
       "0            20    13000000       108.0           2019-03-07      3   \n",
       "1             7     3350000        40.4           2018-12-04      1   \n",
       "2            10     5196000        56.0           2015-08-20      2   \n",
       "3             0    64900000       159.0           2015-07-24      3   \n",
       "4             2    10000000       100.0           2018-06-19      2   \n",
       "\n",
       "   ceiling_height  floors_total  living_area  floor is_apartment  ...  \\\n",
       "0            2.70            16         51.0      8          NaN  ...   \n",
       "1            2.65            11         18.6      1          NaN  ...   \n",
       "2            2.65             5         34.3      4          NaN  ...   \n",
       "3            2.65            14         45.0      9          NaN  ...   \n",
       "4            3.03            14         32.0     13          NaN  ...   \n",
       "\n",
       "   kitchen_area  balcony    locality_name  airports_nearest  \\\n",
       "0          25.0        0  Санкт-Петербург           18863.0   \n",
       "1          11.0        2   посёлок Шушары           12817.0   \n",
       "2           8.3        0  Санкт-Петербург           21741.0   \n",
       "3           9.1        0  Санкт-Петербург           28098.0   \n",
       "4          41.0        0  Санкт-Петербург           31856.0   \n",
       "\n",
       "  city_center_nearest  parks_around3000  parks_nearest  ponds_around3000  \\\n",
       "0             16028.0                 1          482.0                 2   \n",
       "1             18603.0                 0          455.0                 0   \n",
       "2             13933.0                 1           90.0                 2   \n",
       "3              6800.0                 2           84.0                 3   \n",
       "4              8098.0                 2          112.0                 1   \n",
       "\n",
       "   ponds_nearest  days_exposition  \n",
       "0          755.0              180  \n",
       "1          502.0               81  \n",
       "2          574.0              558  \n",
       "3          234.0              424  \n",
       "4           48.0              121  \n",
       "\n",
       "[5 rows x 22 columns]"
      ]
     },
     "execution_count": 30,
     "metadata": {},
     "output_type": "execute_result"
    }
   ],
   "source": [
    "data['first_day_exposition'] = pd.to_datetime(data['first_day_exposition'], format='%Y-%m-%dT%H:%M:%S')\n",
    "data.head()"
   ]
  },
  {
   "cell_type": "code",
   "execution_count": 31,
   "id": "7fc4e555",
   "metadata": {},
   "outputs": [
    {
     "name": "stdout",
     "output_type": "stream",
     "text": [
      "<class 'pandas.core.frame.DataFrame'>\n",
      "Int64Index: 23697 entries, 0 to 23698\n",
      "Data columns (total 22 columns):\n",
      " #   Column                Non-Null Count  Dtype         \n",
      "---  ------                --------------  -----         \n",
      " 0   total_images          23697 non-null  int64         \n",
      " 1   last_price            23697 non-null  int32         \n",
      " 2   total_area            23697 non-null  float64       \n",
      " 3   first_day_exposition  23697 non-null  datetime64[ns]\n",
      " 4   rooms                 23697 non-null  int64         \n",
      " 5   ceiling_height        23697 non-null  float64       \n",
      " 6   floors_total          23697 non-null  int32         \n",
      " 7   living_area           23697 non-null  float64       \n",
      " 8   floor                 23697 non-null  int64         \n",
      " 9   is_apartment          23697 non-null  bool          \n",
      " 10  studio                23697 non-null  bool          \n",
      " 11  open_plan             23697 non-null  bool          \n",
      " 12  kitchen_area          23697 non-null  float64       \n",
      " 13  balcony               23697 non-null  int32         \n",
      " 14  locality_name         23697 non-null  object        \n",
      " 15  airports_nearest      23697 non-null  float64       \n",
      " 16  city_center_nearest   23697 non-null  float64       \n",
      " 17  parks_around3000      23697 non-null  int32         \n",
      " 18  parks_nearest         23697 non-null  float64       \n",
      " 19  ponds_around3000      23697 non-null  int32         \n",
      " 20  ponds_nearest         23697 non-null  float64       \n",
      " 21  days_exposition       23697 non-null  int32         \n",
      "dtypes: bool(3), datetime64[ns](1), float64(8), int32(6), int64(3), object(1)\n",
      "memory usage: 3.1+ MB\n"
     ]
    }
   ],
   "source": [
    "data['is_apartment'] = data['is_apartment'].astype('bool')\n",
    "data.info()"
   ]
  },
  {
   "cell_type": "markdown",
   "id": "b64af972",
   "metadata": {},
   "source": [
    "После изменения типов данные стало удобнее читать и они занимают меньше памяти."
   ]
  },
  {
   "cell_type": "markdown",
   "id": "010453b6",
   "metadata": {},
   "source": [
    "### Работа с дубликатамм"
   ]
  },
  {
   "cell_type": "code",
   "execution_count": 32,
   "id": "3bbea3ec-5847-41b3-885a-10a55f9e1687",
   "metadata": {},
   "outputs": [
    {
     "data": {
      "text/plain": [
       "0"
      ]
     },
     "execution_count": 32,
     "metadata": {},
     "output_type": "execute_result"
    }
   ],
   "source": [
    "data.duplicated().sum()"
   ]
  },
  {
   "cell_type": "markdown",
   "id": "4a37f395",
   "metadata": {},
   "source": [
    "Явных дубликатов в данных нет.\n",
    "Неявные могут находиться в колонке с названиями населённых пунктов."
   ]
  },
  {
   "cell_type": "code",
   "execution_count": 33,
   "id": "9b659c49",
   "metadata": {},
   "outputs": [
    {
     "data": {
      "text/plain": [
       "Санкт-Петербург            15719\n",
       "посёлок Мурино               522\n",
       "посёлок Шушары               440\n",
       "Всеволожск                   398\n",
       "Пушкин                       369\n",
       "                           ...  \n",
       "поселок Коробицыно             1\n",
       "поселок Гладкое                1\n",
       "поселок Дружноселье            1\n",
       "деревня Большой Сабск          1\n",
       "поселок станции Корнево        1\n",
       "Name: locality_name, Length: 365, dtype: int64"
      ]
     },
     "execution_count": 33,
     "metadata": {},
     "output_type": "execute_result"
    }
   ],
   "source": [
    "data['locality_name'].value_counts()"
   ]
  },
  {
   "cell_type": "code",
   "execution_count": 34,
   "id": "d52b7cf5-a0e0-4eef-b997-a4b78553bc83",
   "metadata": {},
   "outputs": [
    {
     "data": {
      "text/plain": [
       "Санкт-Петербург       15719\n",
       "поселок Мурино          556\n",
       "поселок Шушары          440\n",
       "Всеволожск              398\n",
       "Пушкин                  369\n",
       "                      ...  \n",
       "поселок Свирьстрой        1\n",
       "деревня Хязельки          1\n",
       "деревня Курковицы         1\n",
       "деревня Меньково          1\n",
       "поселок Кирпичное         1\n",
       "Name: new_locality_name, Length: 323, dtype: int64"
      ]
     },
     "metadata": {},
     "output_type": "display_data"
    },
    {
     "data": {
      "text/plain": [
       "array(['Санкт-Петербург', 'поселок Шушары', 'поселок Янино-1',\n",
       "       'поселок Парголово', 'поселок Мурино', 'Ломоносов', 'Сертолово',\n",
       "       'Петергоф', 'Пушкин', 'деревня Кудрово', 'Коммунар', 'Колпино',\n",
       "       'поселок Красный Бор', 'Гатчина', 'деревня Федоровское', 'Выборг',\n",
       "       'Кронштадт', 'Кировск', 'деревня Новое Девяткино',\n",
       "       'поселок Металлострой', 'поселок Лебяжье', 'поселок Сиверский',\n",
       "       'поселок Молодцово', 'поселок Кузьмоловский',\n",
       "       'садовое товарищество Новая Ропша', 'Павловск',\n",
       "       'деревня Пикколово', 'Всеволожск', 'Волхов', 'Кингисепп',\n",
       "       'Приозерск', 'Сестрорецк', 'деревня Куттузи', 'поселок Аннино',\n",
       "       'поселок Ефимовский', 'поселок Плодовое', 'деревня Заклинье',\n",
       "       'поселок Торковичи', 'поселок Первомайское', 'Красное Село',\n",
       "       'поселок Понтонный', 'Сясьстрой', 'деревня Старая',\n",
       "       'деревня Лесколово', 'поселок Новый Свет', 'Сланцы',\n",
       "       'село Путилово', 'Ивангород', 'Мурино', 'Шлиссельбург',\n",
       "       'Никольское', 'Зеленогорск', 'Сосновый Бор', 'деревня Оржицы',\n",
       "       'деревня Кальтино', 'Кудрово', 'поселок Романовка',\n",
       "       'поселок Бугры', 'поселок Рощино', 'Кириши', 'Луга', 'Волосово',\n",
       "       'Отрадное', 'село Павлово', 'поселок Оредеж', 'село Копорье',\n",
       "       'поселок Молодежное', 'Тихвин', 'поселок Победа', 'деревня Нурма',\n",
       "       'поселок Синявино', 'Тосно', 'поселок Стрельна', 'Бокситогорск',\n",
       "       'поселок Александровская', 'деревня Лопухинка', 'Пикалево',\n",
       "       'поселок Терволово', 'поселок Советский', 'Подпорожье',\n",
       "       'поселок Петровское', 'поселок Токсово', 'поселок Сельцо',\n",
       "       'поселок Вырица', 'деревня Кипень', 'деревня Келози',\n",
       "       'деревня Вартемяги', 'поселок Тельмана', 'поселок Севастьяново',\n",
       "       'поселок Большая Ижора', 'Неопределена', 'поселок Павлово',\n",
       "       'деревня Агалатово', 'поселок Новогорелово', 'поселок Лесогорский',\n",
       "       'деревня Лаголово', 'поселок Цвелодубово', 'поселок Рахья',\n",
       "       'деревня Белогорка', 'поселок Заводской', 'поселок Новоселье',\n",
       "       'деревня Большие Колпаны', 'деревня Горбунки', 'деревня Батово',\n",
       "       'деревня Заневка', 'деревня Иссад', 'Приморск',\n",
       "       'поселок Федоровское', 'деревня Мистолово', 'Новая Ладога',\n",
       "       'поселок Зимитицы', 'поселок Барышево', 'деревня Разметелево',\n",
       "       'поселок имени Свердлова', 'деревня Пеники', 'поселок Рябово',\n",
       "       'деревня Пудомяги', 'поселок станции Корнево', 'деревня Низино',\n",
       "       'деревня Бегуницы', 'поселок Поляны', 'поселок Мга',\n",
       "       'поселок Елизаветино', 'поселок Кузнечное', 'деревня Колтуши',\n",
       "       'поселок Запорожское', 'деревня Гостилицы',\n",
       "       'деревня Малое Карлино', 'поселок Мичуринское',\n",
       "       'поселок имени Морозова', 'поселок Песочный', 'поселок Сосново',\n",
       "       'деревня Аро', 'поселок Ильичево', 'поселок Тайцы',\n",
       "       'деревня Малое Верево', 'деревня Извара', 'поселок станции Вещево',\n",
       "       'село Паша', 'деревня Калитино', 'поселок Ульяновка',\n",
       "       'деревня Чудской Бор', 'поселок Дубровка', 'деревня Мины',\n",
       "       'поселок Войсковицы', 'деревня Коркино', 'поселок Ропша',\n",
       "       'поселок Приладожский', 'поселок Щеглово', 'поселок Гаврилово',\n",
       "       'Лодейное Поле', 'деревня Рабитицы', 'поселок Никольский',\n",
       "       'деревня Кузьмолово', 'деревня Малые Колпаны',\n",
       "       'поселок Петро-Славянка', 'поселок Назия', 'поселок Репино',\n",
       "       'поселок Углово', 'поселок Старая Малукса',\n",
       "       'садовое товарищество Рахья', 'деревня Меньково',\n",
       "       'деревня Старые Бегуницы', 'поселок Саперный', 'поселок Семрино',\n",
       "       'поселок Глажево', 'поселок Кобринское', 'деревня Гарболово',\n",
       "       'деревня Юкки', 'поселок станции Приветнинское',\n",
       "       'деревня Мануйлово', 'деревня Пчева', 'поселок Цвылево',\n",
       "       'поселок Мельниково', 'поселок Пудость', 'поселок Усть-Луга',\n",
       "       'Светогорск', 'Любань', 'поселок Селезнево', 'Каменногорск',\n",
       "       'деревня Кривко', 'поселок Глебычево', 'деревня Парицы',\n",
       "       'поселок Жилпоселок', 'поселок Войскорово', 'село Никольское',\n",
       "       'поселок Стеклянный', 'поселок Важины', 'поселок Мыза-Ивановка',\n",
       "       'село Русско-Высоцкое', 'поселок Форносово', 'село Старая Ладога',\n",
       "       'поселок Житково', 'поселок Виллози', 'деревня Лампово',\n",
       "       'деревня Шпаньково', 'деревня Лаврики', 'поселок Сумино',\n",
       "       'поселок Возрождение', 'деревня Старосиверская',\n",
       "       'поселок Кикерино', 'деревня Старое Хинколово',\n",
       "       'поселок Пригородный', 'поселок Торфяное', 'поселок Будогощь',\n",
       "       'поселок Суходолье', 'поселок Красная Долина', 'деревня Хапо-Ое',\n",
       "       'поселок Дружная Горка', 'поселок Лисий Нос', 'деревня Яльгелево',\n",
       "       'село Рождествено', 'деревня Старополье', 'поселок Левашово',\n",
       "       'деревня Сяськелево', 'деревня Камышовка',\n",
       "       'садоводческое некоммерческое товарищество Лесная Поляна',\n",
       "       'деревня Хязельки', 'поселок Жилгородок', 'деревня Ялгино',\n",
       "       'поселок Новый Учхоз', 'поселок Гончарово', 'поселок Почап',\n",
       "       'поселок Саперное', 'поселок Платформа 69-й километр',\n",
       "       'поселок Каложицы', 'деревня Фалилеево', 'деревня Пельгора',\n",
       "       'деревня Торошковичи', 'поселок Белоостров', 'поселок Алексеевка',\n",
       "       'поселок Серебрянский', 'поселок Лукаши', 'деревня Щеглово',\n",
       "       'деревня Тарасово', 'поселок Кингисеппский',\n",
       "       'поселок при железнодорожной станции Вещево', 'поселок Ушаки',\n",
       "       'деревня Котлы', 'деревня Сижно', 'деревня Торосово',\n",
       "       'поселок Форт Красная Горка', 'деревня Новолисино',\n",
       "       'поселок станции Громово', 'деревня Глинка',\n",
       "       'деревня Старая Пустошь', 'поселок Коммунары', 'поселок Починок',\n",
       "       'поселок Вознесенье', 'деревня Разбегаево', 'поселок Гладкое',\n",
       "       'поселок при железнодорожной станции Приветнинское',\n",
       "       'поселок Тесово-4', 'деревня Бор', 'поселок Коробицыно',\n",
       "       'деревня Большая Вруда', 'деревня Курковицы', 'поселок Кобралово',\n",
       "       'деревня Суоранда', 'поселок Кондратьево',\n",
       "       'коттеджный поселок Счастье', 'поселок Любань', 'деревня Реброво',\n",
       "       'деревня Зимитицы', 'деревня Тойворово', 'поселок Семиозерье',\n",
       "       'поселок Лесное', 'поселок Совхозный', 'поселок Ленинское',\n",
       "       'поселок Суйда', 'деревня Нижние Осельки', 'поселок станции Свирь',\n",
       "       'поселок Перово', 'Высоцк', 'поселок Гарболово', 'село Шум',\n",
       "       'поселок Котельский', 'поселок станции Лужайка',\n",
       "       'деревня Большая Пустомержа', 'поселок Красносельское',\n",
       "       'деревня Вахнова Кара', 'деревня Пижма',\n",
       "       'коттеджный поселок Кивеннапа Север', 'поселок Ромашки',\n",
       "       'деревня Каськово', 'деревня Куровицы', 'поселок Плоское',\n",
       "       'поселок Кирпичное', 'деревня Ям-Тесово', 'деревня Раздолье',\n",
       "       'деревня Терпилицы', 'поселок Шугозеро', 'деревня Ваганово',\n",
       "       'поселок Пушное', 'садовое товарищество Садко',\n",
       "       'поселок Усть-Ижора', 'деревня Выскатка', 'поселок Свирьстрой',\n",
       "       'поселок Громово', 'деревня Кисельня', 'деревня Трубников Бор',\n",
       "       'поселок Калитино', 'поселок Высокоключевой',\n",
       "       'садовое товарищество Приладожский',\n",
       "       'поселок Пансионат Зеленый Бор', 'деревня Ненимяки',\n",
       "       'деревня Снегиревка', 'деревня Рапполово', 'деревня Пустынка',\n",
       "       'поселок Рабитицы', 'деревня Большой Сабск', 'деревня Русско',\n",
       "       'деревня Лупполово', 'деревня Большое Рейзино',\n",
       "       'деревня Малая Романовка', 'поселок Дружноселье', 'поселок Пчевжа',\n",
       "       'поселок Володарское', 'деревня Нижняя',\n",
       "       'коттеджный поселок Лесное', 'деревня Тихковицы',\n",
       "       'деревня Борисова Грива', 'поселок Дзержинского'], dtype=object)"
      ]
     },
     "execution_count": 34,
     "metadata": {},
     "output_type": "execute_result"
    }
   ],
   "source": [
    "data['new_locality_name'] = (\n",
    "    data['locality_name']\n",
    "    .str.replace('ё','е')\n",
    "    .replace(['поселок\\sгородского\\sтипа+', 'городской\\sпоселок+'], 'поселок', regex=True)\n",
    ")\n",
    "display(data['new_locality_name'].value_counts())\n",
    "data['new_locality_name'].unique()"
   ]
  },
  {
   "cell_type": "markdown",
   "id": "98c2594d",
   "metadata": {},
   "source": [
    "Изменены дублирующиеся значения 'посёлок городского типа', 'посёлок', 'поселок городского типа', 'поселок' на просто 'поселок', также убраны все беквы ё во избежание дубликатов."
   ]
  },
  {
   "cell_type": "markdown",
   "id": "06dc6229",
   "metadata": {},
   "source": [
    "### Проверка остальных колонок"
   ]
  },
  {
   "cell_type": "code",
   "execution_count": 35,
   "id": "43262b15",
   "metadata": {},
   "outputs": [
    {
     "data": {
      "text/plain": [
       "10    1798\n",
       "9     1725\n",
       "20    1693\n",
       "8     1585\n",
       "7     1521\n",
       "6     1482\n",
       "11    1362\n",
       "5     1301\n",
       "12    1225\n",
       "0     1059\n",
       "13    1015\n",
       "4      986\n",
       "14     986\n",
       "15     948\n",
       "1      872\n",
       "3      769\n",
       "16     761\n",
       "17     650\n",
       "18     642\n",
       "2      640\n",
       "19     602\n",
       "23      16\n",
       "21      12\n",
       "24       8\n",
       "22       8\n",
       "26       5\n",
       "28       4\n",
       "32       4\n",
       "29       3\n",
       "50       3\n",
       "27       2\n",
       "35       2\n",
       "30       2\n",
       "31       2\n",
       "39       1\n",
       "25       1\n",
       "42       1\n",
       "37       1\n",
       "Name: total_images, dtype: int64"
      ]
     },
     "execution_count": 35,
     "metadata": {},
     "output_type": "execute_result"
    }
   ],
   "source": [
    "data['total_images'].value_counts()"
   ]
  },
  {
   "cell_type": "code",
   "execution_count": 36,
   "id": "50d48f56",
   "metadata": {},
   "outputs": [
    {
     "data": {
      "text/plain": [
       "45.00     418\n",
       "42.00     383\n",
       "60.00     347\n",
       "31.00     346\n",
       "44.00     345\n",
       "         ... \n",
       "44.24       1\n",
       "56.85       1\n",
       "37.92       1\n",
       "115.60      1\n",
       "55.06       1\n",
       "Name: total_area, Length: 2182, dtype: int64"
      ]
     },
     "execution_count": 36,
     "metadata": {},
     "output_type": "execute_result"
    }
   ],
   "source": [
    "data['total_area'].value_counts()"
   ]
  },
  {
   "cell_type": "code",
   "execution_count": 37,
   "id": "4d6a981b",
   "metadata": {},
   "outputs": [
    {
     "data": {
      "text/plain": [
       "4500000     342\n",
       "3500000     291\n",
       "4000000     260\n",
       "4300000     260\n",
       "4200000     259\n",
       "           ... \n",
       "1320000       1\n",
       "19150000      1\n",
       "6649000       1\n",
       "10296437      1\n",
       "11615600      1\n",
       "Name: last_price, Length: 2978, dtype: int64"
      ]
     },
     "execution_count": 37,
     "metadata": {},
     "output_type": "execute_result"
    }
   ],
   "source": [
    "data['last_price'].value_counts()"
   ]
  },
  {
   "cell_type": "code",
   "execution_count": 38,
   "id": "c8cf85ad",
   "metadata": {},
   "outputs": [
    {
     "data": {
      "text/plain": [
       "45.00     418\n",
       "42.00     383\n",
       "60.00     347\n",
       "31.00     346\n",
       "44.00     345\n",
       "         ... \n",
       "44.24       1\n",
       "56.85       1\n",
       "37.92       1\n",
       "115.60      1\n",
       "55.06       1\n",
       "Name: total_area, Length: 2182, dtype: int64"
      ]
     },
     "execution_count": 38,
     "metadata": {},
     "output_type": "execute_result"
    }
   ],
   "source": [
    "data['total_area'].value_counts()"
   ]
  },
  {
   "cell_type": "code",
   "execution_count": 39,
   "id": "39a7b599",
   "metadata": {},
   "outputs": [
    {
     "data": {
      "text/plain": [
       "2018-02-01    368\n",
       "2017-11-10    240\n",
       "2017-10-13    124\n",
       "2017-09-27    111\n",
       "2018-03-26     97\n",
       "             ... \n",
       "2015-05-17      1\n",
       "2017-01-06      1\n",
       "2016-12-30      1\n",
       "2016-07-06      1\n",
       "2015-03-27      1\n",
       "Name: first_day_exposition, Length: 1491, dtype: int64"
      ]
     },
     "execution_count": 39,
     "metadata": {},
     "output_type": "execute_result"
    }
   ],
   "source": [
    "data['first_day_exposition'].value_counts()"
   ]
  },
  {
   "cell_type": "code",
   "execution_count": 40,
   "id": "e67f66f3",
   "metadata": {},
   "outputs": [
    {
     "data": {
      "text/plain": [
       "1     8046\n",
       "2     7939\n",
       "3     5814\n",
       "4     1180\n",
       "5      326\n",
       "0      197\n",
       "6      105\n",
       "7       59\n",
       "8       12\n",
       "9        8\n",
       "10       3\n",
       "11       2\n",
       "14       2\n",
       "19       1\n",
       "16       1\n",
       "12       1\n",
       "15       1\n",
       "Name: rooms, dtype: int64"
      ]
     },
     "execution_count": 40,
     "metadata": {},
     "output_type": "execute_result"
    }
   ],
   "source": [
    "data['rooms'].value_counts()"
   ]
  },
  {
   "cell_type": "code",
   "execution_count": 41,
   "id": "c0b81f0e",
   "metadata": {},
   "outputs": [
    {
     "data": {
      "text/plain": [
       "2     3368\n",
       "3     3073\n",
       "1     2917\n",
       "4     2804\n",
       "5     2620\n",
       "6     1305\n",
       "7     1218\n",
       "8     1083\n",
       "9     1051\n",
       "10     687\n",
       "12     526\n",
       "11     523\n",
       "13     379\n",
       "15     342\n",
       "14     337\n",
       "16     315\n",
       "17     227\n",
       "18     178\n",
       "19     147\n",
       "21     125\n",
       "22     113\n",
       "20     110\n",
       "23     100\n",
       "24      63\n",
       "25      46\n",
       "26      24\n",
       "27      10\n",
       "28       1\n",
       "29       1\n",
       "32       1\n",
       "30       1\n",
       "33       1\n",
       "31       1\n",
       "Name: floor, dtype: int64"
      ]
     },
     "execution_count": 41,
     "metadata": {},
     "output_type": "execute_result"
    }
   ],
   "source": [
    "data['floor'].value_counts()"
   ]
  },
  {
   "cell_type": "markdown",
   "id": "7d965145",
   "metadata": {},
   "source": [
    "## Добавление новых столбцов"
   ]
  },
  {
   "cell_type": "markdown",
   "id": "b618c939",
   "metadata": {},
   "source": [
    "Добавлен столбец с ценой за квадратный метр"
   ]
  },
  {
   "cell_type": "code",
   "execution_count": 42,
   "id": "12e14abb",
   "metadata": {},
   "outputs": [
    {
     "data": {
      "text/plain": [
       "0        120370.37\n",
       "1         82920.79\n",
       "2         92785.71\n",
       "3        408176.10\n",
       "4        100000.00\n",
       "           ...    \n",
       "23694     72490.85\n",
       "23695     52542.37\n",
       "23696     44091.71\n",
       "23697    149511.40\n",
       "23698     41795.67\n",
       "Name: price_per_squre_meter, Length: 23697, dtype: float64"
      ]
     },
     "execution_count": 42,
     "metadata": {},
     "output_type": "execute_result"
    }
   ],
   "source": [
    "data['price_per_squre_meter'] = (data['last_price'] / data['total_area']).round(2)\n",
    "data['price_per_squre_meter']"
   ]
  },
  {
   "cell_type": "markdown",
   "id": "145e638e",
   "metadata": {},
   "source": [
    "Добавлены столбцы с днем недели, месяцем и годом публикации обьявления"
   ]
  },
  {
   "cell_type": "code",
   "execution_count": 43,
   "id": "1076a02a",
   "metadata": {},
   "outputs": [
    {
     "data": {
      "text/plain": [
       "3    4295\n",
       "1    4183\n",
       "4    3999\n",
       "2    3974\n",
       "0    3612\n",
       "5    1935\n",
       "6    1699\n",
       "Name: day_of_the_week, dtype: int64"
      ]
     },
     "metadata": {},
     "output_type": "display_data"
    },
    {
     "data": {
      "text/plain": [
       "2     2640\n",
       "3     2587\n",
       "4     2379\n",
       "11    2371\n",
       "10    2127\n",
       "9     1980\n",
       "6     1760\n",
       "8     1744\n",
       "7     1695\n",
       "12    1641\n",
       "1     1500\n",
       "5     1273\n",
       "Name: month_exposition, dtype: int64"
      ]
     },
     "metadata": {},
     "output_type": "display_data"
    },
    {
     "data": {
      "text/plain": [
       "2018    8518\n",
       "2017    8189\n",
       "2019    2879\n",
       "2016    2783\n",
       "2015    1191\n",
       "2014     137\n",
       "Name: year_exposition, dtype: int64"
      ]
     },
     "execution_count": 43,
     "metadata": {},
     "output_type": "execute_result"
    }
   ],
   "source": [
    "data['day_of_the_week'] = data['first_day_exposition'].dt.weekday\n",
    "data['month_exposition'] = data['first_day_exposition'].dt.month\n",
    "data['year_exposition'] = data['first_day_exposition'].dt.year\n",
    "display(data['day_of_the_week'].value_counts())\n",
    "display(data['month_exposition'].value_counts())\n",
    "data['year_exposition'].value_counts()"
   ]
  },
  {
   "cell_type": "markdown",
   "id": "3c657df8",
   "metadata": {},
   "source": [
    "Добавлена колонка с категорией этажа"
   ]
  },
  {
   "cell_type": "code",
   "execution_count": 44,
   "id": "90fdddd3",
   "metadata": {},
   "outputs": [
    {
     "data": {
      "text/plain": [
       "другой       17423\n",
       "последний     3357\n",
       "первый        2917\n",
       "Name: floor_category, dtype: int64"
      ]
     },
     "execution_count": 44,
     "metadata": {},
     "output_type": "execute_result"
    }
   ],
   "source": [
    "# функция для категорелизации экажей\n",
    "def floor_type(row):\n",
    "    if row['floor'] == 1:\n",
    "        return 'первый'\n",
    "    elif row['floor'] == row['floors_total']:\n",
    "        return 'последний'\n",
    "    else:\n",
    "        return 'другой'\n",
    "\n",
    "data['floor_category'] = data.apply(floor_type, axis=1)\n",
    "data['floor_category'].value_counts()"
   ]
  },
  {
   "cell_type": "markdown",
   "id": "d2d3bc54",
   "metadata": {},
   "source": [
    "Добавлена колонка с расстоянием до центра города в км"
   ]
  },
  {
   "cell_type": "code",
   "execution_count": 45,
   "id": "586aef81",
   "metadata": {},
   "outputs": [
    {
     "data": {
      "text/plain": [
       "13    6976\n",
       "12    1606\n",
       "15    1568\n",
       "14    1278\n",
       "16    1265\n",
       "      ... \n",
       "45       1\n",
       "61       1\n",
       "62       1\n",
       "59       1\n",
       "63       1\n",
       "Name: city_center_nearest_km, Length: 61, dtype: int64"
      ]
     },
     "execution_count": 45,
     "metadata": {},
     "output_type": "execute_result"
    }
   ],
   "source": [
    "data['city_center_nearest_km'] = (data['city_center_nearest'] / 1000).round().astype('int')\n",
    "data['city_center_nearest_km'].value_counts()"
   ]
  },
  {
   "cell_type": "markdown",
   "id": "3082ea96",
   "metadata": {},
   "source": [
    "## Исследовательский анализ"
   ]
  },
  {
   "cell_type": "code",
   "execution_count": 46,
   "id": "b3cd0cca",
   "metadata": {},
   "outputs": [
    {
     "data": {
      "text/html": [
       "<div>\n",
       "<style scoped>\n",
       "    .dataframe tbody tr th:only-of-type {\n",
       "        vertical-align: middle;\n",
       "    }\n",
       "\n",
       "    .dataframe tbody tr th {\n",
       "        vertical-align: top;\n",
       "    }\n",
       "\n",
       "    .dataframe thead th {\n",
       "        text-align: right;\n",
       "    }\n",
       "</style>\n",
       "<table border=\"1\" class=\"dataframe\">\n",
       "  <thead>\n",
       "    <tr style=\"text-align: right;\">\n",
       "      <th></th>\n",
       "      <th>total_images</th>\n",
       "      <th>last_price</th>\n",
       "      <th>total_area</th>\n",
       "      <th>first_day_exposition</th>\n",
       "      <th>rooms</th>\n",
       "      <th>ceiling_height</th>\n",
       "      <th>floors_total</th>\n",
       "      <th>living_area</th>\n",
       "      <th>floor</th>\n",
       "      <th>is_apartment</th>\n",
       "      <th>...</th>\n",
       "      <th>ponds_around3000</th>\n",
       "      <th>ponds_nearest</th>\n",
       "      <th>days_exposition</th>\n",
       "      <th>new_locality_name</th>\n",
       "      <th>price_per_squre_meter</th>\n",
       "      <th>day_of_the_week</th>\n",
       "      <th>month_exposition</th>\n",
       "      <th>year_exposition</th>\n",
       "      <th>floor_category</th>\n",
       "      <th>city_center_nearest_km</th>\n",
       "    </tr>\n",
       "  </thead>\n",
       "  <tbody>\n",
       "    <tr>\n",
       "      <th>0</th>\n",
       "      <td>20</td>\n",
       "      <td>13000000</td>\n",
       "      <td>108.0</td>\n",
       "      <td>2019-03-07</td>\n",
       "      <td>3</td>\n",
       "      <td>2.70</td>\n",
       "      <td>16</td>\n",
       "      <td>51.0</td>\n",
       "      <td>8</td>\n",
       "      <td>True</td>\n",
       "      <td>...</td>\n",
       "      <td>2</td>\n",
       "      <td>755.0</td>\n",
       "      <td>180</td>\n",
       "      <td>Санкт-Петербург</td>\n",
       "      <td>120370.37</td>\n",
       "      <td>3</td>\n",
       "      <td>3</td>\n",
       "      <td>2019</td>\n",
       "      <td>другой</td>\n",
       "      <td>16</td>\n",
       "    </tr>\n",
       "    <tr>\n",
       "      <th>1</th>\n",
       "      <td>7</td>\n",
       "      <td>3350000</td>\n",
       "      <td>40.4</td>\n",
       "      <td>2018-12-04</td>\n",
       "      <td>1</td>\n",
       "      <td>2.65</td>\n",
       "      <td>11</td>\n",
       "      <td>18.6</td>\n",
       "      <td>1</td>\n",
       "      <td>True</td>\n",
       "      <td>...</td>\n",
       "      <td>0</td>\n",
       "      <td>502.0</td>\n",
       "      <td>81</td>\n",
       "      <td>поселок Шушары</td>\n",
       "      <td>82920.79</td>\n",
       "      <td>1</td>\n",
       "      <td>12</td>\n",
       "      <td>2018</td>\n",
       "      <td>первый</td>\n",
       "      <td>19</td>\n",
       "    </tr>\n",
       "    <tr>\n",
       "      <th>2</th>\n",
       "      <td>10</td>\n",
       "      <td>5196000</td>\n",
       "      <td>56.0</td>\n",
       "      <td>2015-08-20</td>\n",
       "      <td>2</td>\n",
       "      <td>2.65</td>\n",
       "      <td>5</td>\n",
       "      <td>34.3</td>\n",
       "      <td>4</td>\n",
       "      <td>True</td>\n",
       "      <td>...</td>\n",
       "      <td>2</td>\n",
       "      <td>574.0</td>\n",
       "      <td>558</td>\n",
       "      <td>Санкт-Петербург</td>\n",
       "      <td>92785.71</td>\n",
       "      <td>3</td>\n",
       "      <td>8</td>\n",
       "      <td>2015</td>\n",
       "      <td>другой</td>\n",
       "      <td>14</td>\n",
       "    </tr>\n",
       "    <tr>\n",
       "      <th>3</th>\n",
       "      <td>0</td>\n",
       "      <td>64900000</td>\n",
       "      <td>159.0</td>\n",
       "      <td>2015-07-24</td>\n",
       "      <td>3</td>\n",
       "      <td>2.65</td>\n",
       "      <td>14</td>\n",
       "      <td>45.0</td>\n",
       "      <td>9</td>\n",
       "      <td>True</td>\n",
       "      <td>...</td>\n",
       "      <td>3</td>\n",
       "      <td>234.0</td>\n",
       "      <td>424</td>\n",
       "      <td>Санкт-Петербург</td>\n",
       "      <td>408176.10</td>\n",
       "      <td>4</td>\n",
       "      <td>7</td>\n",
       "      <td>2015</td>\n",
       "      <td>другой</td>\n",
       "      <td>7</td>\n",
       "    </tr>\n",
       "    <tr>\n",
       "      <th>4</th>\n",
       "      <td>2</td>\n",
       "      <td>10000000</td>\n",
       "      <td>100.0</td>\n",
       "      <td>2018-06-19</td>\n",
       "      <td>2</td>\n",
       "      <td>3.03</td>\n",
       "      <td>14</td>\n",
       "      <td>32.0</td>\n",
       "      <td>13</td>\n",
       "      <td>True</td>\n",
       "      <td>...</td>\n",
       "      <td>1</td>\n",
       "      <td>48.0</td>\n",
       "      <td>121</td>\n",
       "      <td>Санкт-Петербург</td>\n",
       "      <td>100000.00</td>\n",
       "      <td>1</td>\n",
       "      <td>6</td>\n",
       "      <td>2018</td>\n",
       "      <td>другой</td>\n",
       "      <td>8</td>\n",
       "    </tr>\n",
       "  </tbody>\n",
       "</table>\n",
       "<p>5 rows × 29 columns</p>\n",
       "</div>"
      ],
      "text/plain": [
       "   total_images  last_price  total_area first_day_exposition  rooms  \\\n",
       "0            20    13000000       108.0           2019-03-07      3   \n",
       "1             7     3350000        40.4           2018-12-04      1   \n",
       "2            10     5196000        56.0           2015-08-20      2   \n",
       "3             0    64900000       159.0           2015-07-24      3   \n",
       "4             2    10000000       100.0           2018-06-19      2   \n",
       "\n",
       "   ceiling_height  floors_total  living_area  floor  is_apartment  ...  \\\n",
       "0            2.70            16         51.0      8          True  ...   \n",
       "1            2.65            11         18.6      1          True  ...   \n",
       "2            2.65             5         34.3      4          True  ...   \n",
       "3            2.65            14         45.0      9          True  ...   \n",
       "4            3.03            14         32.0     13          True  ...   \n",
       "\n",
       "   ponds_around3000  ponds_nearest  days_exposition  new_locality_name  \\\n",
       "0                 2          755.0              180    Санкт-Петербург   \n",
       "1                 0          502.0               81     поселок Шушары   \n",
       "2                 2          574.0              558    Санкт-Петербург   \n",
       "3                 3          234.0              424    Санкт-Петербург   \n",
       "4                 1           48.0              121    Санкт-Петербург   \n",
       "\n",
       "  price_per_squre_meter  day_of_the_week  month_exposition  year_exposition  \\\n",
       "0             120370.37                3                 3             2019   \n",
       "1              82920.79                1                12             2018   \n",
       "2              92785.71                3                 8             2015   \n",
       "3             408176.10                4                 7             2015   \n",
       "4             100000.00                1                 6             2018   \n",
       "\n",
       "   floor_category  city_center_nearest_km  \n",
       "0          другой                      16  \n",
       "1          первый                      19  \n",
       "2          другой                      14  \n",
       "3          другой                       7  \n",
       "4          другой                       8  \n",
       "\n",
       "[5 rows x 29 columns]"
      ]
     },
     "execution_count": 46,
     "metadata": {},
     "output_type": "execute_result"
    }
   ],
   "source": [
    "data.head()"
   ]
  },
  {
   "cell_type": "markdown",
   "id": "f9484f81",
   "metadata": {},
   "source": [
    "#### Общие наблюдения"
   ]
  },
  {
   "cell_type": "code",
   "execution_count": 47,
   "id": "4355ffad",
   "metadata": {},
   "outputs": [
    {
     "data": {
      "text/plain": [
       "<AxesSubplot:ylabel='Frequency'>"
      ]
     },
     "execution_count": 47,
     "metadata": {},
     "output_type": "execute_result"
    },
    {
     "data": {
      "image/png": "[encoded data removed]",
      "text/plain": [
       "<Figure size 1200x600 with 1 Axes>"
      ]
     },
     "metadata": {},
     "output_type": "display_data"
    }
   ],
   "source": [
    "data.plot(y='total_area', kind='hist', grid=True, figsize=(12,6), bins=50, range=(0, 250))"
   ]
  },
  {
   "cell_type": "code",
   "execution_count": 48,
   "id": "08ee4edc",
   "metadata": {},
   "outputs": [
    {
     "data": {
      "text/plain": [
       "18.00    896\n",
       "17.60    755\n",
       "30.50    710\n",
       "17.00    675\n",
       "30.00    598\n",
       "        ... \n",
       "96.40      1\n",
       "50.26      1\n",
       "43.81      1\n",
       "54.43      1\n",
       "16.74      1\n",
       "Name: living_area, Length: 1783, dtype: int64"
      ]
     },
     "metadata": {},
     "output_type": "display_data"
    },
    {
     "data": {
      "text/plain": [
       "<AxesSubplot:ylabel='Frequency'>"
      ]
     },
     "execution_count": 48,
     "metadata": {},
     "output_type": "execute_result"
    },
    {
     "data": {
      "image/png": "[encoded data removed]",
      "text/plain": [
       "<Figure size 1200x600 with 1 Axes>"
      ]
     },
     "metadata": {},
     "output_type": "display_data"
    }
   ],
   "source": [
    "display(data['living_area'].value_counts())\n",
    "data.plot(y='living_area', kind='hist', grid=True, figsize=(12,6), bins=50, range=(0, 250))"
   ]
  },
  {
   "cell_type": "code",
   "execution_count": 49,
   "id": "77e52a7b",
   "metadata": {},
   "outputs": [
    {
     "data": {
      "text/plain": [
       "<AxesSubplot:ylabel='Frequency'>"
      ]
     },
     "execution_count": 49,
     "metadata": {},
     "output_type": "execute_result"
    },
    {
     "data": {
      "image/png": "[encoded data removed]",
      "text/plain": [
       "<Figure size 1200x600 with 1 Axes>"
      ]
     },
     "metadata": {},
     "output_type": "display_data"
    }
   ],
   "source": [
    "data.plot(y='kitchen_area', kind='hist', grid=True, figsize=(12,6), bins=50, range=(0, 60))"
   ]
  },
  {
   "cell_type": "code",
   "execution_count": 50,
   "id": "e932c966",
   "metadata": {},
   "outputs": [
    {
     "data": {
      "text/plain": [
       "<AxesSubplot:ylabel='Frequency'>"
      ]
     },
     "execution_count": 50,
     "metadata": {},
     "output_type": "execute_result"
    },
    {
     "data": {
      "image/png": "[encoded data removed]",
      "text/plain": [
       "<Figure size 1200x600 with 1 Axes>"
      ]
     },
     "metadata": {},
     "output_type": "display_data"
    }
   ],
   "source": [
    "data.plot(y='last_price', kind='hist', grid=True, figsize=(12,6), bins=100, range=(0,5e7))"
   ]
  },
  {
   "cell_type": "code",
   "execution_count": 51,
   "id": "677cdb4e",
   "metadata": {},
   "outputs": [
    {
     "data": {
      "text/plain": [
       "<AxesSubplot:ylabel='Frequency'>"
      ]
     },
     "execution_count": 51,
     "metadata": {},
     "output_type": "execute_result"
    },
    {
     "data": {
      "image/png": "[encoded data removed]",
      "text/plain": [
       "<Figure size 1200x600 with 1 Axes>"
      ]
     },
     "metadata": {},
     "output_type": "display_data"
    }
   ],
   "source": [
    "data.plot(y='rooms', kind='hist', grid=True, figsize=(12,6), bins=10, range=(0, 10))"
   ]
  },
  {
   "cell_type": "code",
   "execution_count": 52,
   "id": "c259d072",
   "metadata": {},
   "outputs": [
    {
     "data": {
      "text/plain": [
       "<AxesSubplot:ylabel='Frequency'>"
      ]
     },
     "execution_count": 52,
     "metadata": {},
     "output_type": "execute_result"
    },
    {
     "data": {
      "image/png": "[encoded data removed]",
      "text/plain": [
       "<Figure size 1200x600 with 1 Axes>"
      ]
     },
     "metadata": {},
     "output_type": "display_data"
    }
   ],
   "source": [
    "data.plot(y='ceiling_height', kind='hist', grid=True, figsize=(12,6), range=(2,5), bins=50)"
   ]
  },
  {
   "cell_type": "code",
   "execution_count": 53,
   "id": "ea1eb539",
   "metadata": {},
   "outputs": [
    {
     "data": {
      "text/plain": [
       "floor_category\n",
       "другой       17423\n",
       "первый        2917\n",
       "последний     3357\n",
       "Name: floor_category, dtype: int64"
      ]
     },
     "execution_count": 53,
     "metadata": {},
     "output_type": "execute_result"
    }
   ],
   "source": [
    "data.groupby('floor_category')['floor_category'].count()"
   ]
  },
  {
   "cell_type": "code",
   "execution_count": 54,
   "id": "1e4cc1eb",
   "metadata": {},
   "outputs": [
    {
     "data": {
      "text/plain": [
       "<AxesSubplot:ylabel='Frequency'>"
      ]
     },
     "execution_count": 54,
     "metadata": {},
     "output_type": "execute_result"
    },
    {
     "data": {
      "image/png": "[encoded data removed]",
      "text/plain": [
       "<Figure size 1200x600 with 1 Axes>"
      ]
     },
     "metadata": {},
     "output_type": "display_data"
    }
   ],
   "source": [
    "data.plot(y='floors_total', kind='hist', grid=True, figsize=(12,6), bins=50, range=(0,40))"
   ]
  },
  {
   "cell_type": "code",
   "execution_count": 55,
   "id": "effc97da",
   "metadata": {},
   "outputs": [
    {
     "data": {
      "text/plain": [
       "<AxesSubplot:ylabel='Frequency'>"
      ]
     },
     "execution_count": 55,
     "metadata": {},
     "output_type": "execute_result"
    },
    {
     "data": {
      "image/png": "[encoded data removed]",
      "text/plain": [
       "<Figure size 1200x600 with 1 Axes>"
      ]
     },
     "metadata": {},
     "output_type": "display_data"
    }
   ],
   "source": [
    "data.plot(y='city_center_nearest', kind='hist', grid=True, figsize=(12,6))"
   ]
  },
  {
   "cell_type": "code",
   "execution_count": 56,
   "id": "7aa4aac0",
   "metadata": {},
   "outputs": [
    {
     "data": {
      "text/plain": [
       "<AxesSubplot:ylabel='Frequency'>"
      ]
     },
     "execution_count": 56,
     "metadata": {},
     "output_type": "execute_result"
    },
    {
     "data": {
      "image/png": "[encoded data removed]",
      "text/plain": [
       "<Figure size 1200x600 with 1 Axes>"
      ]
     },
     "metadata": {},
     "output_type": "display_data"
    }
   ],
   "source": [
    "data.plot(y='parks_nearest', kind='hist', grid=True, figsize=(12,6))"
   ]
  },
  {
   "cell_type": "markdown",
   "id": "b89c5daa",
   "metadata": {},
   "source": [
    "* Все колонки, кроме floors_total и living_area, имеют вид очень похожий на распределение Пуассона (колонки-исключения имеют впадины на графике. В колонке floors_total это обусловленно тем, что большая часть домов имеют либо 5, либо 9, либо 13, либо 15 этажей в силу ГОСТов при постройке этих зданий. на графике колонки living_area также наблюдаются несколько пиков, что скорее всего также обусловленно ГОСТами времен постройки)\n",
    "* Во всех колонках, кроме rooms и ceiling_height видны выбросы (в колонке ceiling_height аномальные значения были заранее преобразованы)"
   ]
  },
  {
   "cell_type": "markdown",
   "id": "a2faf5ff",
   "metadata": {},
   "source": [
    "#### Скорость продажи"
   ]
  },
  {
   "cell_type": "code",
   "execution_count": 57,
   "id": "031f861f",
   "metadata": {},
   "outputs": [
    {
     "data": {
      "text/plain": [
       "count    23697.000000\n",
       "mean       180.765582\n",
       "std        204.456478\n",
       "min          1.000000\n",
       "25%         45.000000\n",
       "50%        124.000000\n",
       "75%        199.000000\n",
       "max       1580.000000\n",
       "Name: days_exposition, dtype: float64"
      ]
     },
     "metadata": {},
     "output_type": "display_data"
    },
    {
     "data": {
      "text/plain": [
       "<AxesSubplot:>"
      ]
     },
     "metadata": {},
     "output_type": "display_data"
    },
    {
     "data": {
      "text/plain": [
       "<AxesSubplot:ylabel='Frequency'>"
      ]
     },
     "execution_count": 57,
     "metadata": {},
     "output_type": "execute_result"
    },
    {
     "data": {
      "image/png": "[encoded data removed]",
      "text/plain": [
       "<Figure size 640x480 with 1 Axes>"
      ]
     },
     "metadata": {},
     "output_type": "display_data"
    },
    {
     "data": {
      "image/png": "[encoded data removed]",
      "text/plain": [
       "<Figure size 1200x600 with 1 Axes>"
      ]
     },
     "metadata": {},
     "output_type": "display_data"
    }
   ],
   "source": [
    "display(data['days_exposition'].describe())\n",
    "display(data.boxplot(column='days_exposition'))\n",
    "data.plot(y='days_exposition', kind='hist', grid=True, figsize=(12,6), bins=50)"
   ]
  },
  {
   "cell_type": "markdown",
   "id": "cb11ff9e",
   "metadata": {},
   "source": [
    "Продажа квартиры обычно занимает от 45 до 200 дней. При быстрой продаже квартиры продаются до 45 дней, а необычно долгой можно считать продажу длительностью дольше 400 дней."
   ]
  },
  {
   "cell_type": "markdown",
   "id": "cc1944a7",
   "metadata": {},
   "source": [
    "#### Параметры, влияющие на строимость"
   ]
  },
  {
   "cell_type": "code",
   "execution_count": 58,
   "id": "204443df",
   "metadata": {},
   "outputs": [
    {
     "data": {
      "text/plain": [
       "0.6536755897799336"
      ]
     },
     "metadata": {},
     "output_type": "display_data"
    },
    {
     "data": {
      "text/plain": [
       "<AxesSubplot:xlabel='total_area', ylabel='last_price'>"
      ]
     },
     "execution_count": 58,
     "metadata": {},
     "output_type": "execute_result"
    },
    {
     "data": {
      "image/png": "[encoded data removed]",
      "text/plain": [
       "<Figure size 1200x600 with 1 Axes>"
      ]
     },
     "metadata": {},
     "output_type": "display_data"
    }
   ],
   "source": [
    "display(data['total_area'].corr(data['last_price']))\n",
    "data.plot(x='total_area', y='last_price', kind='scatter', figsize=(12,6))"
   ]
  },
  {
   "cell_type": "code",
   "execution_count": 59,
   "id": "c2f104f5",
   "metadata": {},
   "outputs": [
    {
     "data": {
      "text/plain": [
       "0.5560710494094686"
      ]
     },
     "metadata": {},
     "output_type": "display_data"
    },
    {
     "data": {
      "text/plain": [
       "<AxesSubplot:xlabel='living_area', ylabel='last_price'>"
      ]
     },
     "execution_count": 59,
     "metadata": {},
     "output_type": "execute_result"
    },
    {
     "data": {
      "image/png": "[encoded data removed]",
      "text/plain": [
       "<Figure size 1200x600 with 1 Axes>"
      ]
     },
     "metadata": {},
     "output_type": "display_data"
    }
   ],
   "source": [
    "display(data['living_area'].corr(data['last_price']))\n",
    "data.plot(x='living_area', y='last_price', kind='scatter', figsize=(12,6))"
   ]
  },
  {
   "cell_type": "code",
   "execution_count": 60,
   "id": "211a2aae",
   "metadata": {},
   "outputs": [
    {
     "data": {
      "text/plain": [
       "0.44031484055703446"
      ]
     },
     "metadata": {},
     "output_type": "display_data"
    },
    {
     "data": {
      "text/plain": [
       "<AxesSubplot:xlabel='kitchen_area', ylabel='last_price'>"
      ]
     },
     "execution_count": 60,
     "metadata": {},
     "output_type": "execute_result"
    },
    {
     "data": {
      "image/png": "[encoded data removed]",
      "text/plain": [
       "<Figure size 1200x600 with 1 Axes>"
      ]
     },
     "metadata": {},
     "output_type": "display_data"
    }
   ],
   "source": [
    "display(data['kitchen_area'].corr(data['last_price']))\n",
    "data.plot(x='kitchen_area', y='last_price', kind='scatter', figsize=(12,6))"
   ]
  },
  {
   "cell_type": "markdown",
   "id": "1fc57ea5",
   "metadata": {},
   "source": [
    "На графиках видна некоторая зависимость цены от площади и для всех трех факторов коэффициент корреляции близок к 0.5. (Встречаются выбросы, например, высокая цена при маленькой площади и наоборот)"
   ]
  },
  {
   "cell_type": "code",
   "execution_count": 61,
   "id": "5313162e",
   "metadata": {},
   "outputs": [
    {
     "data": {
      "text/html": [
       "<div>\n",
       "<style scoped>\n",
       "    .dataframe tbody tr th:only-of-type {\n",
       "        vertical-align: middle;\n",
       "    }\n",
       "\n",
       "    .dataframe tbody tr th {\n",
       "        vertical-align: top;\n",
       "    }\n",
       "\n",
       "    .dataframe thead th {\n",
       "        text-align: right;\n",
       "    }\n",
       "</style>\n",
       "<table border=\"1\" class=\"dataframe\">\n",
       "  <thead>\n",
       "    <tr style=\"text-align: right;\">\n",
       "      <th></th>\n",
       "      <th>median_price</th>\n",
       "      <th>count</th>\n",
       "      <th>mean</th>\n",
       "    </tr>\n",
       "    <tr>\n",
       "      <th>rooms</th>\n",
       "      <th></th>\n",
       "      <th></th>\n",
       "      <th></th>\n",
       "    </tr>\n",
       "  </thead>\n",
       "  <tbody>\n",
       "    <tr>\n",
       "      <th>1</th>\n",
       "      <td>3600000</td>\n",
       "      <td>8046</td>\n",
       "      <td>3.835179e+06</td>\n",
       "    </tr>\n",
       "    <tr>\n",
       "      <th>2</th>\n",
       "      <td>4770000</td>\n",
       "      <td>7939</td>\n",
       "      <td>5.591604e+06</td>\n",
       "    </tr>\n",
       "    <tr>\n",
       "      <th>3</th>\n",
       "      <td>6200000</td>\n",
       "      <td>5814</td>\n",
       "      <td>8.179119e+06</td>\n",
       "    </tr>\n",
       "    <tr>\n",
       "      <th>4</th>\n",
       "      <td>9000000</td>\n",
       "      <td>1180</td>\n",
       "      <td>1.342350e+07</td>\n",
       "    </tr>\n",
       "    <tr>\n",
       "      <th>5</th>\n",
       "      <td>14000000</td>\n",
       "      <td>326</td>\n",
       "      <td>2.376208e+07</td>\n",
       "    </tr>\n",
       "  </tbody>\n",
       "</table>\n",
       "</div>"
      ],
      "text/plain": [
       "       median_price  count          mean\n",
       "rooms                                   \n",
       "1           3600000   8046  3.835179e+06\n",
       "2           4770000   7939  5.591604e+06\n",
       "3           6200000   5814  8.179119e+06\n",
       "4           9000000   1180  1.342350e+07\n",
       "5          14000000    326  2.376208e+07"
      ]
     },
     "metadata": {},
     "output_type": "display_data"
    },
    {
     "data": {
      "text/html": [
       "<div>\n",
       "<style scoped>\n",
       "    .dataframe tbody tr th:only-of-type {\n",
       "        vertical-align: middle;\n",
       "    }\n",
       "\n",
       "    .dataframe tbody tr th {\n",
       "        vertical-align: top;\n",
       "    }\n",
       "\n",
       "    .dataframe thead th {\n",
       "        text-align: right;\n",
       "    }\n",
       "</style>\n",
       "<table border=\"1\" class=\"dataframe\">\n",
       "  <thead>\n",
       "    <tr style=\"text-align: right;\">\n",
       "      <th></th>\n",
       "      <th>median_price</th>\n",
       "      <th>count</th>\n",
       "      <th>mean</th>\n",
       "    </tr>\n",
       "  </thead>\n",
       "  <tbody>\n",
       "    <tr>\n",
       "      <th>count</th>\n",
       "      <td>5.000000e+00</td>\n",
       "      <td>5.000000</td>\n",
       "      <td>5.000000e+00</td>\n",
       "    </tr>\n",
       "    <tr>\n",
       "      <th>mean</th>\n",
       "      <td>7.514000e+06</td>\n",
       "      <td>4661.000000</td>\n",
       "      <td>1.095830e+07</td>\n",
       "    </tr>\n",
       "    <tr>\n",
       "      <th>std</th>\n",
       "      <td>4.148853e+06</td>\n",
       "      <td>3689.258191</td>\n",
       "      <td>8.019946e+06</td>\n",
       "    </tr>\n",
       "    <tr>\n",
       "      <th>min</th>\n",
       "      <td>3.600000e+06</td>\n",
       "      <td>326.000000</td>\n",
       "      <td>3.835179e+06</td>\n",
       "    </tr>\n",
       "    <tr>\n",
       "      <th>25%</th>\n",
       "      <td>4.770000e+06</td>\n",
       "      <td>1180.000000</td>\n",
       "      <td>5.591604e+06</td>\n",
       "    </tr>\n",
       "    <tr>\n",
       "      <th>50%</th>\n",
       "      <td>6.200000e+06</td>\n",
       "      <td>5814.000000</td>\n",
       "      <td>8.179119e+06</td>\n",
       "    </tr>\n",
       "    <tr>\n",
       "      <th>75%</th>\n",
       "      <td>9.000000e+06</td>\n",
       "      <td>7939.000000</td>\n",
       "      <td>1.342350e+07</td>\n",
       "    </tr>\n",
       "    <tr>\n",
       "      <th>max</th>\n",
       "      <td>1.400000e+07</td>\n",
       "      <td>8046.000000</td>\n",
       "      <td>2.376208e+07</td>\n",
       "    </tr>\n",
       "  </tbody>\n",
       "</table>\n",
       "</div>"
      ],
      "text/plain": [
       "       median_price        count          mean\n",
       "count  5.000000e+00     5.000000  5.000000e+00\n",
       "mean   7.514000e+06  4661.000000  1.095830e+07\n",
       "std    4.148853e+06  3689.258191  8.019946e+06\n",
       "min    3.600000e+06   326.000000  3.835179e+06\n",
       "25%    4.770000e+06  1180.000000  5.591604e+06\n",
       "50%    6.200000e+06  5814.000000  8.179119e+06\n",
       "75%    9.000000e+06  7939.000000  1.342350e+07\n",
       "max    1.400000e+07  8046.000000  2.376208e+07"
      ]
     },
     "metadata": {},
     "output_type": "display_data"
    },
    {
     "data": {
      "text/plain": [
       "<AxesSubplot:xlabel='rooms'>"
      ]
     },
     "execution_count": 61,
     "metadata": {},
     "output_type": "execute_result"
    },
    {
     "data": {
      "image/png": "[encoded data removed]",
      "text/plain": [
       "<Figure size 640x480 with 1 Axes>"
      ]
     },
     "metadata": {},
     "output_type": "display_data"
    }
   ],
   "source": [
    "rooms = data.pivot_table(index='rooms', values='last_price', aggfunc=['median', 'count', 'mean'])\n",
    "rooms.columns = ['median_price', 'count', 'mean']\n",
    "# отсечем малочисленные группы составляющие меньше 5% от всей выборки так как они содержат выбросы\n",
    "rooms = rooms.loc[(rooms.index > 0) & (rooms.index < 6)]\n",
    "display(rooms)\n",
    "display(rooms.describe())\n",
    "rooms.plot(y='median_price', style='o-')"
   ]
  },
  {
   "cell_type": "markdown",
   "id": "81bf47d9",
   "metadata": {},
   "source": [
    "На графике видно, что количество комнат влияет на стоимость. Чем больше комнат тем дороже квартира."
   ]
  },
  {
   "cell_type": "code",
   "execution_count": 62,
   "id": "f83d7ed4",
   "metadata": {},
   "outputs": [
    {
     "data": {
      "text/html": [
       "<div>\n",
       "<style scoped>\n",
       "    .dataframe tbody tr th:only-of-type {\n",
       "        vertical-align: middle;\n",
       "    }\n",
       "\n",
       "    .dataframe tbody tr th {\n",
       "        vertical-align: top;\n",
       "    }\n",
       "\n",
       "    .dataframe thead th {\n",
       "        text-align: right;\n",
       "    }\n",
       "</style>\n",
       "<table border=\"1\" class=\"dataframe\">\n",
       "  <thead>\n",
       "    <tr style=\"text-align: right;\">\n",
       "      <th></th>\n",
       "      <th>median_price</th>\n",
       "      <th>count</th>\n",
       "      <th>mean</th>\n",
       "    </tr>\n",
       "    <tr>\n",
       "      <th>year_exposition</th>\n",
       "      <th></th>\n",
       "      <th></th>\n",
       "      <th></th>\n",
       "    </tr>\n",
       "  </thead>\n",
       "  <tbody>\n",
       "    <tr>\n",
       "      <th>2016</th>\n",
       "      <td>4550000</td>\n",
       "      <td>2783</td>\n",
       "      <td>6.827912e+06</td>\n",
       "    </tr>\n",
       "    <tr>\n",
       "      <th>2017</th>\n",
       "      <td>4500000</td>\n",
       "      <td>8189</td>\n",
       "      <td>6.585886e+06</td>\n",
       "    </tr>\n",
       "    <tr>\n",
       "      <th>2018</th>\n",
       "      <td>4550000</td>\n",
       "      <td>8518</td>\n",
       "      <td>5.951008e+06</td>\n",
       "    </tr>\n",
       "    <tr>\n",
       "      <th>2019</th>\n",
       "      <td>5050000</td>\n",
       "      <td>2879</td>\n",
       "      <td>6.782388e+06</td>\n",
       "    </tr>\n",
       "  </tbody>\n",
       "</table>\n",
       "</div>"
      ],
      "text/plain": [
       "                 median_price  count          mean\n",
       "year_exposition                                   \n",
       "2016                  4550000   2783  6.827912e+06\n",
       "2017                  4500000   8189  6.585886e+06\n",
       "2018                  4550000   8518  5.951008e+06\n",
       "2019                  5050000   2879  6.782388e+06"
      ]
     },
     "metadata": {},
     "output_type": "display_data"
    },
    {
     "data": {
      "text/plain": [
       "<AxesSubplot:xlabel='year_exposition'>"
      ]
     },
     "execution_count": 62,
     "metadata": {},
     "output_type": "execute_result"
    },
    {
     "data": {
      "image/png": "[encoded data removed]",
      "text/plain": [
       "<Figure size 640x480 with 1 Axes>"
      ]
     },
     "metadata": {},
     "output_type": "display_data"
    }
   ],
   "source": [
    "years = data.pivot_table(index='year_exposition', values='last_price', aggfunc=['median', 'count', 'mean'])\n",
    "years.columns = ['median_price', 'count', 'mean']\n",
    "# отсекаем года с низким количеством обьявлений\n",
    "years = years.loc[years.index > 2015]\n",
    "display(years)\n",
    "years.plot(y='median_price', style='o-')"
   ]
  },
  {
   "cell_type": "markdown",
   "id": "16eabb63",
   "metadata": {},
   "source": [
    "График проказывает, что в 2019 году стоимость выросла, хотя год вряд ли является причиной увеличения цены, скорее всего повлияли какие-то другие факторы. "
   ]
  },
  {
   "cell_type": "code",
   "execution_count": 63,
   "id": "b1da6f53",
   "metadata": {},
   "outputs": [
    {
     "data": {
      "text/html": [
       "<div>\n",
       "<style scoped>\n",
       "    .dataframe tbody tr th:only-of-type {\n",
       "        vertical-align: middle;\n",
       "    }\n",
       "\n",
       "    .dataframe tbody tr th {\n",
       "        vertical-align: top;\n",
       "    }\n",
       "\n",
       "    .dataframe thead th {\n",
       "        text-align: right;\n",
       "    }\n",
       "</style>\n",
       "<table border=\"1\" class=\"dataframe\">\n",
       "  <thead>\n",
       "    <tr style=\"text-align: right;\">\n",
       "      <th></th>\n",
       "      <th>median_price</th>\n",
       "      <th>count</th>\n",
       "      <th>mean</th>\n",
       "    </tr>\n",
       "    <tr>\n",
       "      <th>month_exposition</th>\n",
       "      <th></th>\n",
       "      <th></th>\n",
       "      <th></th>\n",
       "    </tr>\n",
       "  </thead>\n",
       "  <tbody>\n",
       "    <tr>\n",
       "      <th>1</th>\n",
       "      <td>4600000</td>\n",
       "      <td>1500</td>\n",
       "      <td>6.668233e+06</td>\n",
       "    </tr>\n",
       "    <tr>\n",
       "      <th>2</th>\n",
       "      <td>4650000</td>\n",
       "      <td>2640</td>\n",
       "      <td>6.468500e+06</td>\n",
       "    </tr>\n",
       "    <tr>\n",
       "      <th>3</th>\n",
       "      <td>4650000</td>\n",
       "      <td>2587</td>\n",
       "      <td>6.359275e+06</td>\n",
       "    </tr>\n",
       "    <tr>\n",
       "      <th>4</th>\n",
       "      <td>4800000</td>\n",
       "      <td>2379</td>\n",
       "      <td>6.737198e+06</td>\n",
       "    </tr>\n",
       "    <tr>\n",
       "      <th>5</th>\n",
       "      <td>4500000</td>\n",
       "      <td>1273</td>\n",
       "      <td>6.601221e+06</td>\n",
       "    </tr>\n",
       "    <tr>\n",
       "      <th>6</th>\n",
       "      <td>4400000</td>\n",
       "      <td>1760</td>\n",
       "      <td>6.310269e+06</td>\n",
       "    </tr>\n",
       "    <tr>\n",
       "      <th>7</th>\n",
       "      <td>4650000</td>\n",
       "      <td>1695</td>\n",
       "      <td>6.649337e+06</td>\n",
       "    </tr>\n",
       "    <tr>\n",
       "      <th>8</th>\n",
       "      <td>4570000</td>\n",
       "      <td>1744</td>\n",
       "      <td>6.350233e+06</td>\n",
       "    </tr>\n",
       "    <tr>\n",
       "      <th>9</th>\n",
       "      <td>4700000</td>\n",
       "      <td>1980</td>\n",
       "      <td>6.826241e+06</td>\n",
       "    </tr>\n",
       "    <tr>\n",
       "      <th>10</th>\n",
       "      <td>4570000</td>\n",
       "      <td>2127</td>\n",
       "      <td>6.235013e+06</td>\n",
       "    </tr>\n",
       "    <tr>\n",
       "      <th>11</th>\n",
       "      <td>4700000</td>\n",
       "      <td>2371</td>\n",
       "      <td>6.461363e+06</td>\n",
       "    </tr>\n",
       "    <tr>\n",
       "      <th>12</th>\n",
       "      <td>4700000</td>\n",
       "      <td>1641</td>\n",
       "      <td>7.011731e+06</td>\n",
       "    </tr>\n",
       "  </tbody>\n",
       "</table>\n",
       "</div>"
      ],
      "text/plain": [
       "                  median_price  count          mean\n",
       "month_exposition                                   \n",
       "1                      4600000   1500  6.668233e+06\n",
       "2                      4650000   2640  6.468500e+06\n",
       "3                      4650000   2587  6.359275e+06\n",
       "4                      4800000   2379  6.737198e+06\n",
       "5                      4500000   1273  6.601221e+06\n",
       "6                      4400000   1760  6.310269e+06\n",
       "7                      4650000   1695  6.649337e+06\n",
       "8                      4570000   1744  6.350233e+06\n",
       "9                      4700000   1980  6.826241e+06\n",
       "10                     4570000   2127  6.235013e+06\n",
       "11                     4700000   2371  6.461363e+06\n",
       "12                     4700000   1641  7.011731e+06"
      ]
     },
     "metadata": {},
     "output_type": "display_data"
    },
    {
     "data": {
      "text/html": [
       "<div>\n",
       "<style scoped>\n",
       "    .dataframe tbody tr th:only-of-type {\n",
       "        vertical-align: middle;\n",
       "    }\n",
       "\n",
       "    .dataframe tbody tr th {\n",
       "        vertical-align: top;\n",
       "    }\n",
       "\n",
       "    .dataframe thead th {\n",
       "        text-align: right;\n",
       "    }\n",
       "</style>\n",
       "<table border=\"1\" class=\"dataframe\">\n",
       "  <thead>\n",
       "    <tr style=\"text-align: right;\">\n",
       "      <th></th>\n",
       "      <th>median_price</th>\n",
       "      <th>count</th>\n",
       "      <th>mean</th>\n",
       "    </tr>\n",
       "  </thead>\n",
       "  <tbody>\n",
       "    <tr>\n",
       "      <th>count</th>\n",
       "      <td>1.200000e+01</td>\n",
       "      <td>12.000000</td>\n",
       "      <td>1.200000e+01</td>\n",
       "    </tr>\n",
       "    <tr>\n",
       "      <th>mean</th>\n",
       "      <td>4.624167e+06</td>\n",
       "      <td>1974.750000</td>\n",
       "      <td>6.556551e+06</td>\n",
       "    </tr>\n",
       "    <tr>\n",
       "      <th>std</th>\n",
       "      <td>1.054392e+05</td>\n",
       "      <td>443.939006</td>\n",
       "      <td>2.331548e+05</td>\n",
       "    </tr>\n",
       "    <tr>\n",
       "      <th>min</th>\n",
       "      <td>4.400000e+06</td>\n",
       "      <td>1273.000000</td>\n",
       "      <td>6.235013e+06</td>\n",
       "    </tr>\n",
       "    <tr>\n",
       "      <th>25%</th>\n",
       "      <td>4.570000e+06</td>\n",
       "      <td>1681.500000</td>\n",
       "      <td>6.357015e+06</td>\n",
       "    </tr>\n",
       "    <tr>\n",
       "      <th>50%</th>\n",
       "      <td>4.650000e+06</td>\n",
       "      <td>1870.000000</td>\n",
       "      <td>6.534861e+06</td>\n",
       "    </tr>\n",
       "    <tr>\n",
       "      <th>75%</th>\n",
       "      <td>4.700000e+06</td>\n",
       "      <td>2373.000000</td>\n",
       "      <td>6.685474e+06</td>\n",
       "    </tr>\n",
       "    <tr>\n",
       "      <th>max</th>\n",
       "      <td>4.800000e+06</td>\n",
       "      <td>2640.000000</td>\n",
       "      <td>7.011731e+06</td>\n",
       "    </tr>\n",
       "  </tbody>\n",
       "</table>\n",
       "</div>"
      ],
      "text/plain": [
       "       median_price        count          mean\n",
       "count  1.200000e+01    12.000000  1.200000e+01\n",
       "mean   4.624167e+06  1974.750000  6.556551e+06\n",
       "std    1.054392e+05   443.939006  2.331548e+05\n",
       "min    4.400000e+06  1273.000000  6.235013e+06\n",
       "25%    4.570000e+06  1681.500000  6.357015e+06\n",
       "50%    4.650000e+06  1870.000000  6.534861e+06\n",
       "75%    4.700000e+06  2373.000000  6.685474e+06\n",
       "max    4.800000e+06  2640.000000  7.011731e+06"
      ]
     },
     "metadata": {},
     "output_type": "display_data"
    },
    {
     "data": {
      "text/plain": [
       "<AxesSubplot:xlabel='month_exposition'>"
      ]
     },
     "execution_count": 63,
     "metadata": {},
     "output_type": "execute_result"
    },
    {
     "data": {
      "image/png": "[encoded data removed]",
      "text/plain": [
       "<Figure size 640x480 with 1 Axes>"
      ]
     },
     "metadata": {},
     "output_type": "display_data"
    }
   ],
   "source": [
    "month = data.pivot_table(index='month_exposition', values='last_price', aggfunc=['median', 'count', 'mean'])\n",
    "month.columns = ['median_price', 'count', 'mean']\n",
    "display(month)\n",
    "display(month.describe())\n",
    "month.plot(y='median_price', style='o-')"
   ]
  },
  {
   "cell_type": "markdown",
   "id": "1e8a5920",
   "metadata": {},
   "source": [
    "График показывает некоторую сезонность цены: в 4 месяце цена максимальна, а в 6 минимальна, однако разница невелика."
   ]
  },
  {
   "cell_type": "code",
   "execution_count": 64,
   "id": "a161cae9",
   "metadata": {},
   "outputs": [
    {
     "data": {
      "text/html": [
       "<div>\n",
       "<style scoped>\n",
       "    .dataframe tbody tr th:only-of-type {\n",
       "        vertical-align: middle;\n",
       "    }\n",
       "\n",
       "    .dataframe tbody tr th {\n",
       "        vertical-align: top;\n",
       "    }\n",
       "\n",
       "    .dataframe thead th {\n",
       "        text-align: right;\n",
       "    }\n",
       "</style>\n",
       "<table border=\"1\" class=\"dataframe\">\n",
       "  <thead>\n",
       "    <tr style=\"text-align: right;\">\n",
       "      <th></th>\n",
       "      <th>median_price</th>\n",
       "      <th>count</th>\n",
       "      <th>mean</th>\n",
       "    </tr>\n",
       "    <tr>\n",
       "      <th>day_of_the_week</th>\n",
       "      <th></th>\n",
       "      <th></th>\n",
       "      <th></th>\n",
       "    </tr>\n",
       "  </thead>\n",
       "  <tbody>\n",
       "    <tr>\n",
       "      <th>0</th>\n",
       "      <td>4650000</td>\n",
       "      <td>3612</td>\n",
       "      <td>6.511613e+06</td>\n",
       "    </tr>\n",
       "    <tr>\n",
       "      <th>1</th>\n",
       "      <td>4730000</td>\n",
       "      <td>4183</td>\n",
       "      <td>6.394233e+06</td>\n",
       "    </tr>\n",
       "    <tr>\n",
       "      <th>2</th>\n",
       "      <td>4700000</td>\n",
       "      <td>3974</td>\n",
       "      <td>6.627970e+06</td>\n",
       "    </tr>\n",
       "    <tr>\n",
       "      <th>3</th>\n",
       "      <td>4650000</td>\n",
       "      <td>4295</td>\n",
       "      <td>6.708663e+06</td>\n",
       "    </tr>\n",
       "    <tr>\n",
       "      <th>4</th>\n",
       "      <td>4580000</td>\n",
       "      <td>3999</td>\n",
       "      <td>6.372324e+06</td>\n",
       "    </tr>\n",
       "    <tr>\n",
       "      <th>5</th>\n",
       "      <td>4550000</td>\n",
       "      <td>1935</td>\n",
       "      <td>6.977671e+06</td>\n",
       "    </tr>\n",
       "    <tr>\n",
       "      <th>6</th>\n",
       "      <td>4550000</td>\n",
       "      <td>1699</td>\n",
       "      <td>6.246180e+06</td>\n",
       "    </tr>\n",
       "  </tbody>\n",
       "</table>\n",
       "</div>"
      ],
      "text/plain": [
       "                 median_price  count          mean\n",
       "day_of_the_week                                   \n",
       "0                     4650000   3612  6.511613e+06\n",
       "1                     4730000   4183  6.394233e+06\n",
       "2                     4700000   3974  6.627970e+06\n",
       "3                     4650000   4295  6.708663e+06\n",
       "4                     4580000   3999  6.372324e+06\n",
       "5                     4550000   1935  6.977671e+06\n",
       "6                     4550000   1699  6.246180e+06"
      ]
     },
     "metadata": {},
     "output_type": "display_data"
    },
    {
     "data": {
      "text/html": [
       "<div>\n",
       "<style scoped>\n",
       "    .dataframe tbody tr th:only-of-type {\n",
       "        vertical-align: middle;\n",
       "    }\n",
       "\n",
       "    .dataframe tbody tr th {\n",
       "        vertical-align: top;\n",
       "    }\n",
       "\n",
       "    .dataframe thead th {\n",
       "        text-align: right;\n",
       "    }\n",
       "</style>\n",
       "<table border=\"1\" class=\"dataframe\">\n",
       "  <thead>\n",
       "    <tr style=\"text-align: right;\">\n",
       "      <th></th>\n",
       "      <th>median_price</th>\n",
       "      <th>count</th>\n",
       "      <th>mean</th>\n",
       "    </tr>\n",
       "  </thead>\n",
       "  <tbody>\n",
       "    <tr>\n",
       "      <th>count</th>\n",
       "      <td>7.000000e+00</td>\n",
       "      <td>7.000000</td>\n",
       "      <td>7.000000e+00</td>\n",
       "    </tr>\n",
       "    <tr>\n",
       "      <th>mean</th>\n",
       "      <td>4.630000e+06</td>\n",
       "      <td>3385.285714</td>\n",
       "      <td>6.548379e+06</td>\n",
       "    </tr>\n",
       "    <tr>\n",
       "      <th>std</th>\n",
       "      <td>7.187953e+04</td>\n",
       "      <td>1094.337351</td>\n",
       "      <td>2.462211e+05</td>\n",
       "    </tr>\n",
       "    <tr>\n",
       "      <th>min</th>\n",
       "      <td>4.550000e+06</td>\n",
       "      <td>1699.000000</td>\n",
       "      <td>6.246180e+06</td>\n",
       "    </tr>\n",
       "    <tr>\n",
       "      <th>25%</th>\n",
       "      <td>4.565000e+06</td>\n",
       "      <td>2773.500000</td>\n",
       "      <td>6.383279e+06</td>\n",
       "    </tr>\n",
       "    <tr>\n",
       "      <th>50%</th>\n",
       "      <td>4.650000e+06</td>\n",
       "      <td>3974.000000</td>\n",
       "      <td>6.511613e+06</td>\n",
       "    </tr>\n",
       "    <tr>\n",
       "      <th>75%</th>\n",
       "      <td>4.675000e+06</td>\n",
       "      <td>4091.000000</td>\n",
       "      <td>6.668317e+06</td>\n",
       "    </tr>\n",
       "    <tr>\n",
       "      <th>max</th>\n",
       "      <td>4.730000e+06</td>\n",
       "      <td>4295.000000</td>\n",
       "      <td>6.977671e+06</td>\n",
       "    </tr>\n",
       "  </tbody>\n",
       "</table>\n",
       "</div>"
      ],
      "text/plain": [
       "       median_price        count          mean\n",
       "count  7.000000e+00     7.000000  7.000000e+00\n",
       "mean   4.630000e+06  3385.285714  6.548379e+06\n",
       "std    7.187953e+04  1094.337351  2.462211e+05\n",
       "min    4.550000e+06  1699.000000  6.246180e+06\n",
       "25%    4.565000e+06  2773.500000  6.383279e+06\n",
       "50%    4.650000e+06  3974.000000  6.511613e+06\n",
       "75%    4.675000e+06  4091.000000  6.668317e+06\n",
       "max    4.730000e+06  4295.000000  6.977671e+06"
      ]
     },
     "metadata": {},
     "output_type": "display_data"
    },
    {
     "data": {
      "text/plain": [
       "<AxesSubplot:xlabel='day_of_the_week'>"
      ]
     },
     "execution_count": 64,
     "metadata": {},
     "output_type": "execute_result"
    },
    {
     "data": {
      "image/png": "[encoded data removed]",
      "text/plain": [
       "<Figure size 640x480 with 1 Axes>"
      ]
     },
     "metadata": {},
     "output_type": "display_data"
    }
   ],
   "source": [
    "day = data.pivot_table(index='day_of_the_week', values='last_price', aggfunc=['median', 'count', 'mean'])\n",
    "day.columns = ['median_price', 'count', 'mean']\n",
    "display(day)\n",
    "display(day.describe())\n",
    "day.plot(y='median_price', style='o-')"
   ]
  },
  {
   "cell_type": "markdown",
   "id": "eb3e4c42",
   "metadata": {},
   "source": [
    "Последний график также показывает небольшую разницу в ценах: в пн, вт цена выше а на выходных - ниже, однако разница также незначительна."
   ]
  },
  {
   "cell_type": "code",
   "execution_count": 65,
   "id": "008e3abd",
   "metadata": {},
   "outputs": [
    {
     "data": {
      "text/html": [
       "<div>\n",
       "<style scoped>\n",
       "    .dataframe tbody tr th:only-of-type {\n",
       "        vertical-align: middle;\n",
       "    }\n",
       "\n",
       "    .dataframe tbody tr th {\n",
       "        vertical-align: top;\n",
       "    }\n",
       "\n",
       "    .dataframe thead th {\n",
       "        text-align: right;\n",
       "    }\n",
       "</style>\n",
       "<table border=\"1\" class=\"dataframe\">\n",
       "  <thead>\n",
       "    <tr style=\"text-align: right;\">\n",
       "      <th></th>\n",
       "      <th>median_price</th>\n",
       "      <th>count</th>\n",
       "      <th>mean</th>\n",
       "    </tr>\n",
       "    <tr>\n",
       "      <th>floor_category</th>\n",
       "      <th></th>\n",
       "      <th></th>\n",
       "      <th></th>\n",
       "    </tr>\n",
       "  </thead>\n",
       "  <tbody>\n",
       "    <tr>\n",
       "      <th>другой</th>\n",
       "      <td>4850000</td>\n",
       "      <td>17423</td>\n",
       "      <td>6.675779e+06</td>\n",
       "    </tr>\n",
       "    <tr>\n",
       "      <th>первый</th>\n",
       "      <td>3900000</td>\n",
       "      <td>2917</td>\n",
       "      <td>4.803560e+06</td>\n",
       "    </tr>\n",
       "    <tr>\n",
       "      <th>последний</th>\n",
       "      <td>4300000</td>\n",
       "      <td>3357</td>\n",
       "      <td>7.355729e+06</td>\n",
       "    </tr>\n",
       "  </tbody>\n",
       "</table>\n",
       "</div>"
      ],
      "text/plain": [
       "                median_price  count          mean\n",
       "floor_category                                   \n",
       "другой               4850000  17423  6.675779e+06\n",
       "первый               3900000   2917  4.803560e+06\n",
       "последний            4300000   3357  7.355729e+06"
      ]
     },
     "metadata": {},
     "output_type": "display_data"
    },
    {
     "data": {
      "text/plain": [
       "<AxesSubplot:xlabel='floor_category'>"
      ]
     },
     "execution_count": 65,
     "metadata": {},
     "output_type": "execute_result"
    },
    {
     "data": {
      "image/png": "[encoded data removed]",
      "text/plain": [
       "<Figure size 640x480 with 1 Axes>"
      ]
     },
     "metadata": {},
     "output_type": "display_data"
    }
   ],
   "source": [
    "floor_category = data.pivot_table(index='floor_category', values='last_price', aggfunc=['median', 'count', 'mean'])\n",
    "floor_category.columns = ['median_price', 'count', 'mean']\n",
    "display(floor_category)\n",
    "floor_category.plot(y='median_price', style='o-')"
   ]
  },
  {
   "cell_type": "markdown",
   "id": "291c6a51",
   "metadata": {},
   "source": [
    "Можно заметить, что первый этаж имеет самую низкую стоимость а не первый и не последний самую высокую."
   ]
  },
  {
   "cell_type": "markdown",
   "id": "29cb98b6",
   "metadata": {},
   "source": [
    "#### Средняя цена на кв.м."
   ]
  },
  {
   "cell_type": "code",
   "execution_count": 66,
   "id": "9713f84a",
   "metadata": {},
   "outputs": [
    {
     "data": {
      "text/html": [
       "<div>\n",
       "<style scoped>\n",
       "    .dataframe tbody tr th:only-of-type {\n",
       "        vertical-align: middle;\n",
       "    }\n",
       "\n",
       "    .dataframe tbody tr th {\n",
       "        vertical-align: top;\n",
       "    }\n",
       "\n",
       "    .dataframe thead th {\n",
       "        text-align: right;\n",
       "    }\n",
       "</style>\n",
       "<table border=\"1\" class=\"dataframe\">\n",
       "  <thead>\n",
       "    <tr style=\"text-align: right;\">\n",
       "      <th></th>\n",
       "      <th>count</th>\n",
       "      <th>last_price</th>\n",
       "      <th>total_area</th>\n",
       "      <th>avg_price_sq_m</th>\n",
       "    </tr>\n",
       "    <tr>\n",
       "      <th>new_locality_name</th>\n",
       "      <th></th>\n",
       "      <th></th>\n",
       "      <th></th>\n",
       "      <th></th>\n",
       "    </tr>\n",
       "  </thead>\n",
       "  <tbody>\n",
       "    <tr>\n",
       "      <th>Санкт-Петербург</th>\n",
       "      <td>15719</td>\n",
       "      <td>8.062839e+06</td>\n",
       "      <td>64.753276</td>\n",
       "      <td>124516.32</td>\n",
       "    </tr>\n",
       "    <tr>\n",
       "      <th>Пушкин</th>\n",
       "      <td>369</td>\n",
       "      <td>6.469036e+06</td>\n",
       "      <td>61.552791</td>\n",
       "      <td>105097.36</td>\n",
       "    </tr>\n",
       "    <tr>\n",
       "      <th>деревня Кудрово</th>\n",
       "      <td>299</td>\n",
       "      <td>4.234158e+06</td>\n",
       "      <td>46.571739</td>\n",
       "      <td>90916.90</td>\n",
       "    </tr>\n",
       "    <tr>\n",
       "      <th>поселок Парголово</th>\n",
       "      <td>327</td>\n",
       "      <td>4.488075e+06</td>\n",
       "      <td>51.521407</td>\n",
       "      <td>87110.87</td>\n",
       "    </tr>\n",
       "    <tr>\n",
       "      <th>поселок Мурино</th>\n",
       "      <td>556</td>\n",
       "      <td>3.652361e+06</td>\n",
       "      <td>43.961403</td>\n",
       "      <td>83081.09</td>\n",
       "    </tr>\n",
       "    <tr>\n",
       "      <th>поселок Шушары</th>\n",
       "      <td>440</td>\n",
       "      <td>4.108082e+06</td>\n",
       "      <td>53.821273</td>\n",
       "      <td>76328.22</td>\n",
       "    </tr>\n",
       "    <tr>\n",
       "      <th>Колпино</th>\n",
       "      <td>338</td>\n",
       "      <td>3.964021e+06</td>\n",
       "      <td>53.231479</td>\n",
       "      <td>74467.62</td>\n",
       "    </tr>\n",
       "    <tr>\n",
       "      <th>Гатчина</th>\n",
       "      <td>307</td>\n",
       "      <td>3.488337e+06</td>\n",
       "      <td>50.942932</td>\n",
       "      <td>68475.38</td>\n",
       "    </tr>\n",
       "    <tr>\n",
       "      <th>Всеволожск</th>\n",
       "      <td>398</td>\n",
       "      <td>3.789068e+06</td>\n",
       "      <td>56.022186</td>\n",
       "      <td>67635.13</td>\n",
       "    </tr>\n",
       "    <tr>\n",
       "      <th>Выборг</th>\n",
       "      <td>237</td>\n",
       "      <td>3.250983e+06</td>\n",
       "      <td>56.150042</td>\n",
       "      <td>57898.14</td>\n",
       "    </tr>\n",
       "  </tbody>\n",
       "</table>\n",
       "</div>"
      ],
      "text/plain": [
       "                   count    last_price  total_area  avg_price_sq_m\n",
       "new_locality_name                                                 \n",
       "Санкт-Петербург    15719  8.062839e+06   64.753276       124516.32\n",
       "Пушкин               369  6.469036e+06   61.552791       105097.36\n",
       "деревня Кудрово      299  4.234158e+06   46.571739        90916.90\n",
       "поселок Парголово    327  4.488075e+06   51.521407        87110.87\n",
       "поселок Мурино       556  3.652361e+06   43.961403        83081.09\n",
       "поселок Шушары       440  4.108082e+06   53.821273        76328.22\n",
       "Колпино              338  3.964021e+06   53.231479        74467.62\n",
       "Гатчина              307  3.488337e+06   50.942932        68475.38\n",
       "Всеволожск           398  3.789068e+06   56.022186        67635.13\n",
       "Выборг               237  3.250983e+06   56.150042        57898.14"
      ]
     },
     "execution_count": 66,
     "metadata": {},
     "output_type": "execute_result"
    }
   ],
   "source": [
    "locality = data.pivot_table(index='new_locality_name', values=['last_price', 'total_area'], aggfunc=['count', 'mean'])\n",
    "locality.columns = ['count', 'count1', 'last_price', 'total_area']\n",
    "locality = locality.drop('count1', axis=1).sort_values(by='count', ascending=False)[0:10]\n",
    "locality['avg_price_sq_m'] = (locality['last_price'] / locality['total_area']).round(2)\n",
    "locality.sort_values(by='avg_price_sq_m', ascending=False)"
   ]
  },
  {
   "cell_type": "markdown",
   "id": "6052d9ab",
   "metadata": {},
   "source": [
    "* Самая высокая стоимость квадратного метра в Санкт-Петербурге: 124516 за квадратный метр.\n",
    "* Самая низкая стоимлсть квадратного метра в Выборге: 57898 за квадратный метр."
   ]
  },
  {
   "cell_type": "markdown",
   "id": "1691b3cf",
   "metadata": {},
   "source": [
    "#### Зависимость стоимости квартиры в СПб от расстояния до центра города"
   ]
  },
  {
   "cell_type": "code",
   "execution_count": 67,
   "id": "260f655d",
   "metadata": {},
   "outputs": [
    {
     "data": {
      "text/html": [
       "<div>\n",
       "<style scoped>\n",
       "    .dataframe tbody tr th:only-of-type {\n",
       "        vertical-align: middle;\n",
       "    }\n",
       "\n",
       "    .dataframe tbody tr th {\n",
       "        vertical-align: top;\n",
       "    }\n",
       "\n",
       "    .dataframe thead th {\n",
       "        text-align: right;\n",
       "    }\n",
       "</style>\n",
       "<table border=\"1\" class=\"dataframe\">\n",
       "  <thead>\n",
       "    <tr style=\"text-align: right;\">\n",
       "      <th></th>\n",
       "      <th>last_price</th>\n",
       "    </tr>\n",
       "    <tr>\n",
       "      <th>city_center_nearest_km</th>\n",
       "      <th></th>\n",
       "    </tr>\n",
       "  </thead>\n",
       "  <tbody>\n",
       "    <tr>\n",
       "      <th>0</th>\n",
       "      <td>3.144912e+07</td>\n",
       "    </tr>\n",
       "    <tr>\n",
       "      <th>1</th>\n",
       "      <td>2.120672e+07</td>\n",
       "    </tr>\n",
       "    <tr>\n",
       "      <th>2</th>\n",
       "      <td>1.778832e+07</td>\n",
       "    </tr>\n",
       "    <tr>\n",
       "      <th>3</th>\n",
       "      <td>1.112658e+07</td>\n",
       "    </tr>\n",
       "    <tr>\n",
       "      <th>4</th>\n",
       "      <td>1.330428e+07</td>\n",
       "    </tr>\n",
       "    <tr>\n",
       "      <th>5</th>\n",
       "      <td>1.449912e+07</td>\n",
       "    </tr>\n",
       "    <tr>\n",
       "      <th>6</th>\n",
       "      <td>1.533842e+07</td>\n",
       "    </tr>\n",
       "    <tr>\n",
       "      <th>7</th>\n",
       "      <td>1.477515e+07</td>\n",
       "    </tr>\n",
       "    <tr>\n",
       "      <th>8</th>\n",
       "      <td>9.957717e+06</td>\n",
       "    </tr>\n",
       "    <tr>\n",
       "      <th>9</th>\n",
       "      <td>6.950659e+06</td>\n",
       "    </tr>\n",
       "    <tr>\n",
       "      <th>10</th>\n",
       "      <td>6.504119e+06</td>\n",
       "    </tr>\n",
       "    <tr>\n",
       "      <th>11</th>\n",
       "      <td>6.250815e+06</td>\n",
       "    </tr>\n",
       "    <tr>\n",
       "      <th>12</th>\n",
       "      <td>5.828874e+06</td>\n",
       "    </tr>\n",
       "    <tr>\n",
       "      <th>13</th>\n",
       "      <td>6.469319e+06</td>\n",
       "    </tr>\n",
       "    <tr>\n",
       "      <th>14</th>\n",
       "      <td>5.629124e+06</td>\n",
       "    </tr>\n",
       "  </tbody>\n",
       "</table>\n",
       "</div>"
      ],
      "text/plain": [
       "                          last_price\n",
       "city_center_nearest_km              \n",
       "0                       3.144912e+07\n",
       "1                       2.120672e+07\n",
       "2                       1.778832e+07\n",
       "3                       1.112658e+07\n",
       "4                       1.330428e+07\n",
       "5                       1.449912e+07\n",
       "6                       1.533842e+07\n",
       "7                       1.477515e+07\n",
       "8                       9.957717e+06\n",
       "9                       6.950659e+06\n",
       "10                      6.504119e+06\n",
       "11                      6.250815e+06\n",
       "12                      5.828874e+06\n",
       "13                      6.469319e+06\n",
       "14                      5.629124e+06"
      ]
     },
     "metadata": {},
     "output_type": "display_data"
    },
    {
     "data": {
      "text/plain": [
       "<AxesSubplot:xlabel='city_center_nearest_km'>"
      ]
     },
     "execution_count": 67,
     "metadata": {},
     "output_type": "execute_result"
    },
    {
     "data": {
      "image/png": "[encoded data removed]",
      "text/plain": [
       "<Figure size 640x480 with 1 Axes>"
      ]
     },
     "metadata": {},
     "output_type": "display_data"
    }
   ],
   "source": [
    "sankt_peterburg = data.query('locality_name == \"Санкт-Петербург\"')\n",
    "sankt_peterburg = sankt_peterburg.pivot_table(index='city_center_nearest_km', values='last_price', aggfunc='mean')\n",
    "sankt_peterburg = sankt_peterburg[sankt_peterburg.index < 15]\n",
    "display(sankt_peterburg)\n",
    "sankt_peterburg.plot(y='last_price', style='o-')"
   ]
  },
  {
   "cell_type": "markdown",
   "id": "714422a9",
   "metadata": {},
   "source": [
    "Стоимость обьектов падает в с ростом расстояния до центра города."
   ]
  },
  {
   "cell_type": "markdown",
   "id": "862324fe",
   "metadata": {},
   "source": [
    "## Общий вывод"
   ]
  },
  {
   "cell_type": "markdown",
   "id": "da7aa8b1",
   "metadata": {},
   "source": [
    "### Проблемы в данных и их решения\n",
    "\n",
    "* В данных 14 колонок имели пропуски. Во всех колонках кроме is_apartament удалось заполнить пропуски не испортив статистику:\n",
    "    * в колонке с высотой потолка не хватало более 9000 значений. Возможно некоторые люди не указывают высоту полотков или часть данных была утеряна при техническом сбое. Пропуски были заполнены медианой имеющихся значений.\n",
    "    * в колонке с количеством этажей небольшая часть значений потеряна. Пропуски были заполнены модой по текущему этажу.\n",
    "    * в колонке жилой площади примерно 9% данных утеряно. Эти данные были заполнены медианой по количеству комнат. Причиной пропусков может служить технический сбой или нежелание людей указывать жилую площадь.\n",
    "    * в колонке с полщадью кухни примерно 10% данных утеряно. Пропуски были заполнены медианой. Причины прокусков могут быть такими же как и в столбце с жилой слощадью.\n",
    "    * в колонке с количеством балконов половина значений утеряна. Пропущенные значения скорее всего указывают на отсутствие балкона. Такие пропуски были заполнены нулями.\n",
    "    * в колонке названия населенного пункта утеряно меньше 1% данных. Пропуски были заполнены значением \"необределен\".\n",
    "    * в колонках airports_nearest, cityCenters_nearest, parks_around3000, parks_nearest, ponds_around3000, ponds_nearest значения отсутствуют в одинаковых строках, видимо часть людей не заполнила эти данные, либо они были утеряны при техническом сбое.\n",
    "        * в колонках airports_nearest, cityCenters_nearest, parks_nearest, ponds_nearest пропуски были заполнены медианой.\n",
    "        * в колонках parks_around3000, ponds_around3000 - нулями.\n",
    "    * в колонке days_exposition пропуски были заполнены средним значением.\n",
    "    \n",
    "    \n",
    "    \n",
    "* В колонке с названиями населенных пунктов были обработаны неявные дубликаты, например, \"посёлок Молодцово\" и \"поселок Молодцово\".\n",
    "* В колонке с высотой потолка были обработаны аномалии, например, высота потолка 25 метров. Такие значения скорее всего имели неправельный разделитель целочисленной части и были поделены на 10. значения от 10м до 20м были удалены.\n",
    "* В колонках 'last_price', 'floors_total', 'balcony', 'parks_around3000', 'ponds_around3000', 'days_exposition' был изменент тип данных на целочисленный\n",
    "* В колонке days_exposition тип был изменен на datetime для удобства работы с этой колонкой.\n",
    "\n",
    "### Основные выводы\n",
    "\n",
    "#### Общий вид данных\n",
    "\n",
    "* Все графики колонок, кроме floors_total и living_area, имеют вид очень похожий на распределение Пуассона (колонки-исключения имеют впадины на графике. В колонке floors_total это обусловленно тем, что большая часть домов имеют либо 5, либо 9, либо 13, либо 15 этажей в силу ГОСТов при постройке этих зданий. на графике колонки living_area также наблюдаются несколько пиков, что скорее всего также обусловленно ГОСТами времен постройки)\n",
    "* Во всех колонках, кроме rooms и ceiling_height видны выбросы (в колонке ceiling_height аномальные значения были заранее преобразованы)\n",
    "\n",
    "#### Скорость продажи квартиры\n",
    "\n",
    "* Продажа квартиры обычно занимает от 45 до 200 дней. При быстрой продаже квартиры продаются до 45 дней, а необычно долгой можно считать продажу длительностью дольше 400 дней.\n",
    "\n",
    "#### Параметры, влияющие на стоимость\n",
    "\n",
    "* Были выявлены зависимости стоимости от количества комнат, общей площади, жилой площади и площади кухни. (Кореляция примерно равна 0.5)\n",
    "* На графиках также можно заметить небольшую зависимость стоимости от дня недели, месяца и года.\n",
    "* Была выявлена зависимость от этажа, на котором расположена квартира: первый этаж самый дешевый, а не первый и не последний имеет самую высокую стоимость.\n",
    "* Исследование покзало следующий рост зависимостей: меньше всего стоимость зависит от времени публикации обьявления, далее идут площади кухни, жилой зоны, общая площадь и тип этажа и больше всего стоимость зависит от количества комнат.\n",
    "\n",
    "#### Средняя цена квадратного метра в 10 самых популярных населенных пунктах\n",
    "\n",
    "* Самая высокая стоимость квадратного метра в Санкт-Петербурге: 124516 за квадратный метр.\n",
    "* Самая низкая стоимлсть квадратного метра в Выборге: 57898 за квадратный метр.\n",
    "\n",
    "#### Зависимость стоимости от расстояния до центра в СПб\n",
    "\n",
    "* Стоимость обьектов в Санкт-Петербурге падает в с ростом расстояния до центра города. В самом центре города стоимость составляет около 30 000 000, в 5 км. от центра примерно 15 000 000, а в 10 км - 6 500 000.\n",
    "\n",
    "### Рекомендации\n",
    "\n",
    "#### Параметры, на которые стоит обращать внимание при оценке рыночной стоимости квартиры:\n",
    "\n",
    "* количество комнат,\n",
    "* населенный пункт,\n",
    "* этаж,\n",
    "* общая площадь,\n",
    "* жилая площадь,\n",
    "* площадь кухни,\n",
    "* расстояние до центра города\n",
    "\n",
    "#### Скорость продажи квартиры:\n",
    "\n",
    "квартира обычно пробается за 45-200 дней.\n",
    "\n",
    "#### Как можно улучшить анализ этих данных:\n",
    "\n",
    "* в первую очередь заполнить пропуски в колонках:\n",
    "    * жилой площади (9% данных утеряно),\n",
    "    * площадью кухни (10% данных утеряно),\n",
    "    * airports_nearest, cityCenters_nearest, parks_around3000, parks_nearest, ponds_around3000, ponds_nearest(от 20% до 50% данных утеряно)"
   ]
  }
 ],
 "metadata": {
  "kernelspec": {
   "display_name": "Python 3 (ipykernel)",
   "language": "python",
   "name": "python3"
  },
  "language_info": {
   "codemirror_mode": {
    "name": "ipython",
    "version": 3
   },
   "file_extension": ".py",
   "mimetype": "text/x-python",
   "name": "python",
   "nbconvert_exporter": "python",
   "pygments_lexer": "ipython3",
   "version": "3.9.18"
  }
 },
 "nbformat": 4,
 "nbformat_minor": 5
}
